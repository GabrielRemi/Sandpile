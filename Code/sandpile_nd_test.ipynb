{
 "cells": [
  {
   "metadata": {
    "ExecuteTime": {
     "end_time": "2025-02-25T10:22:53.648982Z",
     "start_time": "2025-02-25T10:22:53.319001Z"
    }
   },
   "cell_type": "code",
   "source": [
    "\n",
    "\n",
    "import matplotlib.pyplot as plt\n",
    "import numpy as np\n",
    "\n",
    "from sandpile import *\n",
    "from utils import *\n",
    "from multiprocessing import Pool, Process\n",
    "\n",
    "is_notebook()\n",
    "\n",
    "\n"
   ],
   "id": "f86b781db9bf8d4a",
   "outputs": [
    {
     "data": {
      "text/plain": [
       "True"
      ]
     },
     "execution_count": 1,
     "metadata": {},
     "output_type": "execute_result"
    }
   ],
   "execution_count": 1
  },
  {
   "metadata": {
    "ExecuteTime": {
     "end_time": "2025-02-25T10:25:45.421655Z",
     "start_time": "2025-02-25T10:25:04.254965Z"
    }
   },
   "cell_type": "code",
   "source": [
    "# TIME_STEPS = 10_000\n",
    "# N = 10\n",
    "# system = SandpileND(2, N, 7)\n",
    "# system(TIME_STEPS)\n",
    "\n",
    "def run_system(dim, grid, time_steps, path):\n",
    "   system = SandpileND(dim, grid, 7)\n",
    "   system(time_steps)\n",
    "   system.save_data(path)\n",
    "\n",
    "tasks = [\n",
    "    (4, 20, 100_000, \"data1\"),\n",
    "    (2, 40, 1_000_000, \"data2\"),\n",
    "    (3, 40, 1_000_000, \"data3\")\n",
    "]\n",
    "\n",
    "processes = []\n",
    "for task in tasks:\n",
    "    processes.append(Process(target=run_system, args=task))\n",
    "\n",
    "for p in processes:\n",
    "    p.start()\n",
    "\n",
    "for p in processes:\n",
    "    p.join()\n",
    "\n",
    "# plt.plot(range(TIME_STEPS), system.average_slopes)\n",
    "\n",
    "# system.save_data(\"test.data\")\n"
   ],
   "id": "44d0d00ba3e7eaae",
   "outputs": [
    {
     "name": "stdout",
     "output_type": "stream",
     "text": [
      " "
     ]
    },
    {
     "data": {
      "text/plain": [
       "dim 4 grid 20:   0%|          | 0/99999 [00:00<?, ?it/s]"
      ],
      "application/vnd.jupyter.widget-view+json": {
       "version_major": 2,
       "version_minor": 0,
       "model_id": "6fb75b74d02242ea97ef8372dbb86629"
      }
     },
     "metadata": {},
     "output_type": "display_data"
    },
    {
     "name": "stdout",
     "output_type": "stream",
     "text": [
      " "
     ]
    },
    {
     "data": {
      "text/plain": [
       "dim 2 grid 40:   0%|          | 0/999999 [00:00<?, ?it/s]"
      ],
      "application/vnd.jupyter.widget-view+json": {
       "version_major": 2,
       "version_minor": 0,
       "model_id": "d295e20475174b1193c32b1ca226ac99"
      }
     },
     "metadata": {},
     "output_type": "display_data"
    },
    {
     "data": {
      "text/plain": [
       "dim 3 grid 40:   0%|          | 0/999999 [00:00<?, ?it/s]"
      ],
      "application/vnd.jupyter.widget-view+json": {
       "version_major": 2,
       "version_minor": 0,
       "model_id": "464cf294aa6f48eca39f31745c639541"
      }
     },
     "metadata": {},
     "output_type": "display_data"
    },
    {
     "ename": "KeyboardInterrupt",
     "evalue": "",
     "output_type": "error",
     "traceback": [
      "\u001B[0;31m---------------------------------------------------------------------------\u001B[0m",
      "\u001B[0;31mKeyboardInterrupt\u001B[0m                         Traceback (most recent call last)",
      "Cell \u001B[0;32mIn[6], line 25\u001B[0m\n\u001B[1;32m     22\u001B[0m     p\u001B[38;5;241m.\u001B[39mstart()\n\u001B[1;32m     24\u001B[0m \u001B[38;5;28;01mfor\u001B[39;00m p \u001B[38;5;129;01min\u001B[39;00m processes:\n\u001B[0;32m---> 25\u001B[0m     \u001B[43mp\u001B[49m\u001B[38;5;241;43m.\u001B[39;49m\u001B[43mjoin\u001B[49m\u001B[43m(\u001B[49m\u001B[43m)\u001B[49m\n\u001B[1;32m     27\u001B[0m \u001B[38;5;66;03m# plt.plot(range(TIME_STEPS), system.average_slopes)\u001B[39;00m\n\u001B[1;32m     28\u001B[0m \n\u001B[1;32m     29\u001B[0m \u001B[38;5;66;03m# system.save_data(\"test.data\")\u001B[39;00m\n",
      "File \u001B[0;32m/usr/lib64/python3.12/multiprocessing/process.py:149\u001B[0m, in \u001B[0;36mBaseProcess.join\u001B[0;34m(self, timeout)\u001B[0m\n\u001B[1;32m    147\u001B[0m \u001B[38;5;28;01massert\u001B[39;00m \u001B[38;5;28mself\u001B[39m\u001B[38;5;241m.\u001B[39m_parent_pid \u001B[38;5;241m==\u001B[39m os\u001B[38;5;241m.\u001B[39mgetpid(), \u001B[38;5;124m'\u001B[39m\u001B[38;5;124mcan only join a child process\u001B[39m\u001B[38;5;124m'\u001B[39m\n\u001B[1;32m    148\u001B[0m \u001B[38;5;28;01massert\u001B[39;00m \u001B[38;5;28mself\u001B[39m\u001B[38;5;241m.\u001B[39m_popen \u001B[38;5;129;01mis\u001B[39;00m \u001B[38;5;129;01mnot\u001B[39;00m \u001B[38;5;28;01mNone\u001B[39;00m, \u001B[38;5;124m'\u001B[39m\u001B[38;5;124mcan only join a started process\u001B[39m\u001B[38;5;124m'\u001B[39m\n\u001B[0;32m--> 149\u001B[0m res \u001B[38;5;241m=\u001B[39m \u001B[38;5;28;43mself\u001B[39;49m\u001B[38;5;241;43m.\u001B[39;49m\u001B[43m_popen\u001B[49m\u001B[38;5;241;43m.\u001B[39;49m\u001B[43mwait\u001B[49m\u001B[43m(\u001B[49m\u001B[43mtimeout\u001B[49m\u001B[43m)\u001B[49m\n\u001B[1;32m    150\u001B[0m \u001B[38;5;28;01mif\u001B[39;00m res \u001B[38;5;129;01mis\u001B[39;00m \u001B[38;5;129;01mnot\u001B[39;00m \u001B[38;5;28;01mNone\u001B[39;00m:\n\u001B[1;32m    151\u001B[0m     _children\u001B[38;5;241m.\u001B[39mdiscard(\u001B[38;5;28mself\u001B[39m)\n",
      "File \u001B[0;32m/usr/lib64/python3.12/multiprocessing/popen_fork.py:43\u001B[0m, in \u001B[0;36mPopen.wait\u001B[0;34m(self, timeout)\u001B[0m\n\u001B[1;32m     41\u001B[0m             \u001B[38;5;28;01mreturn\u001B[39;00m \u001B[38;5;28;01mNone\u001B[39;00m\n\u001B[1;32m     42\u001B[0m     \u001B[38;5;66;03m# This shouldn't block if wait() returned successfully.\u001B[39;00m\n\u001B[0;32m---> 43\u001B[0m     \u001B[38;5;28;01mreturn\u001B[39;00m \u001B[38;5;28;43mself\u001B[39;49m\u001B[38;5;241;43m.\u001B[39;49m\u001B[43mpoll\u001B[49m\u001B[43m(\u001B[49m\u001B[43mos\u001B[49m\u001B[38;5;241;43m.\u001B[39;49m\u001B[43mWNOHANG\u001B[49m\u001B[43m \u001B[49m\u001B[38;5;28;43;01mif\u001B[39;49;00m\u001B[43m \u001B[49m\u001B[43mtimeout\u001B[49m\u001B[43m \u001B[49m\u001B[38;5;241;43m==\u001B[39;49m\u001B[43m \u001B[49m\u001B[38;5;241;43m0.0\u001B[39;49m\u001B[43m \u001B[49m\u001B[38;5;28;43;01melse\u001B[39;49;00m\u001B[43m \u001B[49m\u001B[38;5;241;43m0\u001B[39;49m\u001B[43m)\u001B[49m\n\u001B[1;32m     44\u001B[0m \u001B[38;5;28;01mreturn\u001B[39;00m \u001B[38;5;28mself\u001B[39m\u001B[38;5;241m.\u001B[39mreturncode\n",
      "File \u001B[0;32m/usr/lib64/python3.12/multiprocessing/popen_fork.py:27\u001B[0m, in \u001B[0;36mPopen.poll\u001B[0;34m(self, flag)\u001B[0m\n\u001B[1;32m     25\u001B[0m \u001B[38;5;28;01mif\u001B[39;00m \u001B[38;5;28mself\u001B[39m\u001B[38;5;241m.\u001B[39mreturncode \u001B[38;5;129;01mis\u001B[39;00m \u001B[38;5;28;01mNone\u001B[39;00m:\n\u001B[1;32m     26\u001B[0m     \u001B[38;5;28;01mtry\u001B[39;00m:\n\u001B[0;32m---> 27\u001B[0m         pid, sts \u001B[38;5;241m=\u001B[39m \u001B[43mos\u001B[49m\u001B[38;5;241;43m.\u001B[39;49m\u001B[43mwaitpid\u001B[49m\u001B[43m(\u001B[49m\u001B[38;5;28;43mself\u001B[39;49m\u001B[38;5;241;43m.\u001B[39;49m\u001B[43mpid\u001B[49m\u001B[43m,\u001B[49m\u001B[43m \u001B[49m\u001B[43mflag\u001B[49m\u001B[43m)\u001B[49m\n\u001B[1;32m     28\u001B[0m     \u001B[38;5;28;01mexcept\u001B[39;00m \u001B[38;5;167;01mOSError\u001B[39;00m:\n\u001B[1;32m     29\u001B[0m         \u001B[38;5;66;03m# Child process not yet created. See #1731717\u001B[39;00m\n\u001B[1;32m     30\u001B[0m         \u001B[38;5;66;03m# e.errno == errno.ECHILD == 10\u001B[39;00m\n\u001B[1;32m     31\u001B[0m         \u001B[38;5;28;01mreturn\u001B[39;00m \u001B[38;5;28;01mNone\u001B[39;00m\n",
      "\u001B[0;31mKeyboardInterrupt\u001B[0m: "
     ]
    },
    {
     "name": "stderr",
     "output_type": "stream",
     "text": [
      "Process Process-14:\n",
      "Process Process-15:\n",
      "Process Process-13:\n",
      "Traceback (most recent call last):\n",
      "Traceback (most recent call last):\n",
      "Traceback (most recent call last):\n",
      "  File \"/usr/lib64/python3.12/copy.py\", line 242, in _keep_alive\n",
      "    memo[id(memo)].append(x)\n",
      "    ~~~~^^^^^^^^^^\n",
      "  File \"/usr/lib64/python3.12/multiprocessing/process.py\", line 314, in _bootstrap\n",
      "    self.run()\n",
      "  File \"/usr/lib64/python3.12/multiprocessing/process.py\", line 314, in _bootstrap\n",
      "    self.run()\n",
      "  File \"/usr/lib64/python3.12/multiprocessing/process.py\", line 108, in run\n",
      "    self._target(*self._args, **self._kwargs)\n",
      "KeyError: 140330331099392\n"
     ]
    }
   ],
   "execution_count": 6
  },
  {
   "metadata": {
    "ExecuteTime": {
     "end_time": "2025-02-25T09:45:59.424734Z",
     "start_time": "2025-02-25T09:45:59.246743Z"
    }
   },
   "cell_type": "code",
   "source": [
    "from sandpile import *\n",
    "import matplotlib.pyplot as plt\n",
    "\n",
    "\n",
    "system = SandpileND.load_from_file(\"test.data\")\n",
    "print(system)\n",
    "\n",
    "plt.plot(range(TIME_STEPS), system.average_slopes)\n",
    "\n"
   ],
   "id": "bba97ee5e1d1d4aa",
   "outputs": [
    {
     "name": "stdout",
     "output_type": "stream",
     "text": [
      "SandpileND(dimension=2, linear_grid_size=10, critical_slope=7, start_cfg=None)\n"
     ]
    },
    {
     "data": {
      "text/plain": [
       "[<matplotlib.lines.Line2D at 0x7f722ac31850>]"
      ]
     },
     "execution_count": 4,
     "metadata": {},
     "output_type": "execute_result"
    },
    {
     "data": {
      "text/plain": [
       "<Figure size 640x480 with 1 Axes>"
      ],
      "image/png": "[encoded data removed]"
     },
     "metadata": {},
     "output_type": "display_data"
    }
   ],
   "execution_count": 4
  },
  {
   "metadata": {
    "ExecuteTime": {
     "end_time": "2025-02-25T09:46:02.347410Z",
     "start_time": "2025-02-25T09:46:01.473196Z"
    }
   },
   "cell_type": "code",
   "source": [
    "\n",
    "sizes = np.zeros(len(system.avalanches))\n",
    "times = np.zeros(len(system.avalanches))\n",
    "reach = np.zeros(len(system.avalanches))\n",
    "\n",
    "for i, a in enumerate(system.avalanches):\n",
    "    sizes[i] = a.size\n",
    "    times[i] = a.time\n",
    "    reach[i] = a.reach\n",
    "\n",
    "plt.figure(0, figsize=(16, 5))\n",
    "\n",
    "plt.subplot(131)\n",
    "plt.hist(sizes, range=(0, 200), bins=30)\n",
    "\n",
    "plt.subplot(132)\n",
    "plt.hist(times, range=(0, 50), bins=30)\n",
    "\n",
    "plt.subplot(133)\n",
    "plt.hist(reach, range=(0, 25), bins=30)"
   ],
   "id": "2f01a307ef2369af",
   "outputs": [
    {
     "data": {
      "text/plain": [
       "(array([2.192e+03, 1.028e+03, 4.810e+02, 3.680e+02, 2.090e+02, 1.460e+02,\n",
       "        2.780e+02, 1.000e+02, 9.700e+01, 6.400e+01, 5.800e+01, 4.700e+01,\n",
       "        1.300e+01, 1.000e+00, 2.000e+00, 0.000e+00, 0.000e+00, 0.000e+00,\n",
       "        0.000e+00, 0.000e+00, 0.000e+00, 0.000e+00, 0.000e+00, 0.000e+00,\n",
       "        0.000e+00, 0.000e+00, 0.000e+00, 0.000e+00, 0.000e+00, 0.000e+00]),\n",
       " array([ 0.        ,  0.83333333,  1.66666667,  2.5       ,  3.33333333,\n",
       "         4.16666667,  5.        ,  5.83333333,  6.66666667,  7.5       ,\n",
       "         8.33333333,  9.16666667, 10.        , 10.83333333, 11.66666667,\n",
       "        12.5       , 13.33333333, 14.16666667, 15.        , 15.83333333,\n",
       "        16.66666667, 17.5       , 18.33333333, 19.16666667, 20.        ,\n",
       "        20.83333333, 21.66666667, 22.5       , 23.33333333, 24.16666667,\n",
       "        25.        ]),\n",
       " <BarContainer object of 30 artists>)"
      ]
     },
     "execution_count": 5,
     "metadata": {},
     "output_type": "execute_result"
    },
    {
     "data": {
      "text/plain": [
       "<Figure size 1600x500 with 3 Axes>"
      ],
      "image/png": "[encoded data removed]"
     },
     "metadata": {},
     "output_type": "display_data"
    }
   ],
   "execution_count": 5
  },
  {
   "metadata": {
    "ExecuteTime": {
     "end_time": "2025-02-25T10:16:49.293293Z",
     "start_time": "2025-02-25T10:16:45.882229Z"
    }
   },
   "cell_type": "code",
   "source": [
    "# from tqdm.notebook import tqdm\n",
    "# from tqdm import tqdm\n",
    "# from tqdm import tqdm_notebook as tqdm\n",
    "# import time\n",
    "from utils import do\n",
    "\n",
    "do()\n"
   ],
   "id": "7e779e41308e21ad",
   "outputs": [
    {
     "name": "stdout",
     "output_type": "stream",
     "text": [
      "   "
     ]
    },
    {
     "data": {
      "text/plain": [
       "2:   0%|          | 0/100 [00:00<?, ?it/s]"
      ],
      "application/vnd.jupyter.widget-view+json": {
       "version_major": 2,
       "version_minor": 0,
       "model_id": "aeabb8d8784c4c09acb5a913d873566c"
      }
     },
     "metadata": {},
     "output_type": "display_data"
    },
    {
     "data": {
      "text/plain": [
       "1:   0%|          | 0/100 [00:00<?, ?it/s]"
      ],
      "application/vnd.jupyter.widget-view+json": {
       "version_major": 2,
       "version_minor": 0,
       "model_id": "1f984879c26446038bbb7081d16674dc"
      }
     },
     "metadata": {},
     "output_type": "display_data"
    },
    {
     "data": {
      "text/plain": [
       "0:   0%|          | 0/100 [00:00<?, ?it/s]"
      ],
      "application/vnd.jupyter.widget-view+json": {
       "version_major": 2,
       "version_minor": 0,
       "model_id": "fd7a251e8c8449889e25aceb0726c889"
      }
     },
     "metadata": {},
     "output_type": "display_data"
    }
   ],
   "execution_count": 1
  }
 ],
 "metadata": {
  "kernelspec": {
   "display_name": "Python 3",
   "language": "python",
   "name": "python3"
  },
  "language_info": {
   "codemirror_mode": {
    "name": "ipython",
    "version": 2
   },
   "file_extension": ".py",
   "mimetype": "text/x-python",
   "name": "python",
   "nbconvert_exporter": "python",
   "pygments_lexer": "ipython2",
   "version": "2.7.6"
  }
 },
 "nbformat": 4,
 "nbformat_minor": 5
}
