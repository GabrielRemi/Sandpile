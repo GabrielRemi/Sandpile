{
 "cells": [
  {
   "metadata": {
    "ExecuteTime": {
     "end_time": "2025-02-28T16:22:08.193832Z",
     "start_time": "2025-02-28T16:22:08.189172Z"
    }
   },
   "cell_type": "code",
   "source": [
    "\n",
    "\n",
    "import matplotlib.pyplot as plt\n",
    "import numpy as np\n",
    "\n",
    "from sandpile import *\n",
    "from utils import *\n",
    "from multiprocessing import Pool, Process, set_start_method\n",
    "import multiprocessing as mp\n",
    "\n"
   ],
   "id": "f86b781db9bf8d4a",
   "outputs": [],
   "execution_count": 5
  },
  {
   "metadata": {
    "ExecuteTime": {
     "end_time": "2025-02-28T16:32:03.402681Z",
     "start_time": "2025-02-28T16:22:08.211008Z"
    }
   },
   "cell_type": "code",
   "source": [
    "\n",
    "def run_system(task):\n",
    "    dim, grid, boundary, time_steps, path = task\n",
    "    system = SandpileND(dim, grid, 7, boundary)\n",
    "    system(time_steps)\n",
    "    system.save_data(path)\n",
    "\n",
    "N = 1_000_000\n",
    "tasks = [\n",
    "    (1, 40, \"open\", N, \"data1\"),\n",
    "    (2, 20, \"open\", N, \"data2\"),\n",
    "    (3, 15, \"open\", N, \"data3\"),\n",
    "    (1, 40, \"closed\", N, \"data1_closed\"),\n",
    "    (2, 20, \"closed\", N, \"data2_closed\"),\n",
    "    (3, 15, \"closed\", N, \"data3_closed\"),\n",
    "]\n",
    "\n",
    "ctx = mp.get_context('fork')\n",
    "\n",
    "with ctx.Pool() as pool:\n",
    "    pool.map(run_system, tasks)\n"
   ],
   "id": "44d0d00ba3e7eaae",
   "outputs": [
    {
     "name": "stdout",
     "output_type": "stream",
     "text": [
      "\r"
     ]
    },
    {
     "data": {
      "text/plain": [
       "dim1 grid40 closed:   0%|          | 0/999999 [00:00<?, ?it/s]"
      ],
      "application/vnd.jupyter.widget-view+json": {
       "version_major": 2,
       "version_minor": 0,
       "model_id": "1093f16507e44ab08de66970f8fa9269"
      }
     },
     "metadata": {},
     "output_type": "display_data"
    },
    {
     "data": {
      "text/plain": [
       "dim1 grid40 open:   0%|          | 0/999999 [00:00<?, ?it/s]"
      ],
      "application/vnd.jupyter.widget-view+json": {
       "version_major": 2,
       "version_minor": 0,
       "model_id": "b372b9d24c914db08c8fe9d2f3252e30"
      }
     },
     "metadata": {},
     "output_type": "display_data"
    },
    {
     "data": {
      "text/plain": [
       "dim3 grid15 open:   0%|          | 0/999999 [00:00<?, ?it/s]"
      ],
      "application/vnd.jupyter.widget-view+json": {
       "version_major": 2,
       "version_minor": 0,
       "model_id": "1714628a3d6e4087b4d7a1ef88cf9fb5"
      }
     },
     "metadata": {},
     "output_type": "display_data"
    },
    {
     "data": {
      "text/plain": [
       "dim2 grid20 open:   0%|          | 0/999999 [00:00<?, ?it/s]"
      ],
      "application/vnd.jupyter.widget-view+json": {
       "version_major": 2,
       "version_minor": 0,
       "model_id": "e3f9361c5ad442c5b416c7f653805ff8"
      }
     },
     "metadata": {},
     "output_type": "display_data"
    },
    {
     "data": {
      "text/plain": [
       "dim3 grid15 closed:   0%|          | 0/999999 [00:00<?, ?it/s]"
      ],
      "application/vnd.jupyter.widget-view+json": {
       "version_major": 2,
       "version_minor": 0,
       "model_id": "eda541b177024116ae5e5c059f68c14b"
      }
     },
     "metadata": {},
     "output_type": "display_data"
    },
    {
     "data": {
      "text/plain": [
       "dim2 grid20 closed:   0%|          | 0/999999 [00:00<?, ?it/s]"
      ],
      "application/vnd.jupyter.widget-view+json": {
       "version_major": 2,
       "version_minor": 0,
       "model_id": "b93191354c974dda905063102a60d413"
      }
     },
     "metadata": {},
     "output_type": "display_data"
    }
   ],
   "execution_count": 6
  },
  {
   "metadata": {
    "ExecuteTime": {
     "end_time": "2025-02-28T16:52:55.701972Z",
     "start_time": "2025-02-28T16:52:51.744997Z"
    }
   },
   "cell_type": "code",
   "source": [
    "from sandpile import *\n",
    "import matplotlib.pyplot as plt\n",
    "\n",
    "\n",
    "plt.figure(1, figsize=(12, 5))\n",
    "\n",
    "dim = 2\n",
    "plt.subplot(121)\n",
    "system = SandpileND.load_from_file(f\"data{dim}_closed\")\n",
    "\n",
    "plt.plot(range(system.average_slopes.__len__()), system.average_slopes)\n",
    "\n",
    "# plt.subplot(122)\n",
    "# system = SandpileND.load_from_file(f\"data{dim}_closed\")\n",
    "# \n",
    "# plt.plot(range(system.average_slopes.__len__()), system.average_slopes)\n",
    "\n",
    "\n"
   ],
   "id": "bba97ee5e1d1d4aa",
   "outputs": [
    {
     "data": {
      "text/plain": [
       "[<matplotlib.lines.Line2D at 0x7f418c330dd0>]"
      ]
     },
     "execution_count": 37,
     "metadata": {},
     "output_type": "execute_result"
    },
    {
     "data": {
      "text/plain": [
       "<Figure size 1200x500 with 1 Axes>"
      ],
      "image/png": "[encoded data removed]"
     },
     "metadata": {},
     "output_type": "display_data"
    }
   ],
   "execution_count": 37
  },
  {
   "metadata": {
    "ExecuteTime": {
     "end_time": "2025-02-28T16:52:57.901390Z",
     "start_time": "2025-02-28T16:52:57.554035Z"
    }
   },
   "cell_type": "code",
   "source": "data = system.get_avalanche_data()\n",
   "id": "a14e81720751efed",
   "outputs": [],
   "execution_count": 38
  },
  {
   "metadata": {
    "ExecuteTime": {
     "end_time": "2025-02-28T16:52:59.774354Z",
     "start_time": "2025-02-28T16:52:58.846784Z"
    }
   },
   "cell_type": "code",
   "source": [
    "size, time_steps = get_hist(data[\"size\"])\n",
    "\n",
    "plt.yscale(\"log\")\n",
    "plt.xscale(\"log\")\n",
    "plt.scatter(time_steps, size, s=3)"
   ],
   "id": "4c395b1f7d0ef279",
   "outputs": [
    {
     "data": {
      "text/plain": [
       "<matplotlib.collections.PathCollection at 0x7f418c331160>"
      ]
     },
     "execution_count": 39,
     "metadata": {},
     "output_type": "execute_result"
    },
    {
     "data": {
      "text/plain": [
       "<Figure size 640x480 with 1 Axes>"
      ],
      "image/png": "[encoded data removed]"
     },
     "metadata": {},
     "output_type": "display_data"
    }
   ],
   "execution_count": 39
  }
 ],
 "metadata": {
  "kernelspec": {
   "display_name": "Python 3",
   "language": "python",
   "name": "python3"
  },
  "language_info": {
   "codemirror_mode": {
    "name": "ipython",
    "version": 2
   },
   "file_extension": ".py",
   "mimetype": "text/x-python",
   "name": "python",
   "nbconvert_exporter": "python",
   "pygments_lexer": "ipython2",
   "version": "2.7.6"
  }
 },
 "nbformat": 4,
 "nbformat_minor": 5
}
