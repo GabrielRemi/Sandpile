{
 "cells": [
  {
   "metadata": {},
   "cell_type": "markdown",
   "source": "# Imports",
   "id": "670e1dfaa6ee9e6f"
  },
  {
   "cell_type": "code",
   "id": "initial_id",
   "metadata": {
    "collapsed": true
   },
   "source": [
    "from functools import partial\n",
    "\n",
    "import matplotlib.pyplot as plt\n",
    "import pandas as pd\n",
    "import numpy as np\n",
    "from scipy.optimize import curve_fit\n",
    "\n",
    "from sandpile import *\n",
    "from utils import *\n",
    "\n"
   ],
   "outputs": [],
   "execution_count": null
  },
  {
   "metadata": {},
   "cell_type": "markdown",
   "source": "## Load The Data",
   "id": "7c1af5d43833babb"
  },
  {
   "metadata": {},
   "cell_type": "code",
   "source": [
    "dim = 2\n",
    "grid = 40\n",
    "bound = \"o\"\n",
    "perturb = \"c\"\n",
    "crit = 7\n",
    "\n",
    "system = SandpileND.load_from_file(f\"data/data_{dim}_{grid}_{bound}_{perturb}_{crit}\")\n",
    "data = system.get_avalanche_data()\n",
    "\n",
    "plt.ylabel(r\"Average Slope $\\langle s \\rangle$\")\n",
    "plt.xlabel(r\"Time $t$\")\n",
    "plt.plot(range(len(system.average_slopes)), system.average_slopes)\n"
   ],
   "id": "d2857ee84aa52dc9",
   "outputs": [],
   "execution_count": null
  },
  {
   "metadata": {},
   "cell_type": "markdown",
   "source": [
    "# Probability Distributions\n",
    "\n",
    "We expect distributions of the form \n",
    "$$\n",
    "\\begin{aligned}\n",
    "    P(S = s) &= s^{1-\\tau} \\\\\n",
    "    P(T = t) &= s^{1-\\alpha} \\\\\n",
    "    P(R = r) &= s^{1-\\lambda}\n",
    "\\end{aligned}\n",
    "$$"
   ],
   "id": "951b2e68284bbd91"
  },
  {
   "metadata": {},
   "cell_type": "markdown",
   "source": [
    "\n",
    "# Calculate the scaling exponents\n"
   ],
   "id": "c35c03b07e07ae04"
  },
  {
   "metadata": {},
   "cell_type": "code",
   "source": [
    "\n",
    "def fit_func(x, m, b):\n",
    "    return x * m + b\n",
    "\n",
    "\n",
    "dist, size = get_hist(data[\"size\"])\n",
    "\n",
    "ind = (dist > 0) & (size < 130)\n",
    "x = np.log(size[ind])\n",
    "y = np.log(dist[ind])\n",
    "\n",
    "output = curve_fit(fit_func, x, y, full_output=True)\n",
    "m, b = output[0]\n",
    "\n",
    "f\"exponent = {1 - m}\"\n"
   ],
   "id": "f4eaf1050a78671b",
   "outputs": [],
   "execution_count": null
  },
  {
   "metadata": {},
   "cell_type": "markdown",
   "source": "## Plot the Data",
   "id": "28fe53fd0751c6eb"
  },
  {
   "metadata": {},
   "cell_type": "code",
   "source": [
    "scatter = partial(plt.scatter, s=3)\n",
    "plot = partial(plt.plot, zorder=10)\n",
    "\n",
    "def plot_func(x, _exp, _amp):\n",
    "    return _amp * x ** _exp\n",
    "\n",
    "plt.xscale(\"log\")\n",
    "plt.yscale(\"log\")\n",
    "scatter(size, dist)\n",
    "plot(size, plot_func(size, m, np.exp(b)))\n",
    "\n"
   ],
   "id": "f0be689106141a93",
   "outputs": [],
   "execution_count": null
  }
 ],
 "metadata": {
  "kernelspec": {
   "display_name": "Python 3",
   "language": "python",
   "name": "python3"
  },
  "language_info": {
   "codemirror_mode": {
    "name": "ipython",
    "version": 2
   },
   "file_extension": ".py",
   "mimetype": "text/x-python",
   "name": "python",
   "nbconvert_exporter": "python",
   "pygments_lexer": "ipython2",
   "version": "2.7.6"
  }
 },
 "nbformat": 4,
 "nbformat_minor": 5
}
