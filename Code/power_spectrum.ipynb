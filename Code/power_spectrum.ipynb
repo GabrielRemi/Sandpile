{
 "cells": [
  {
   "cell_type": "code",
   "id": "initial_id",
   "metadata": {
    "collapsed": true,
    "ExecuteTime": {
     "end_time": "2025-03-26T20:29:16.179537Z",
     "start_time": "2025-03-26T20:29:15.758528Z"
    }
   },
   "source": [
    "import pathlib\n",
    "\n",
    "import matplotlib.pyplot as plt\n",
    "import numpy as np\n",
    "import scipy\n",
    "from analysis import *\n",
    "from analysis import draw_slope\n",
    "from utils import *\n",
    "from computation import *\n",
    "import json\n",
    "\n",
    "# number 2, 5 error\n",
    "\n",
    "with open(\"power_spectrum.json\") as f:\n",
    "    meta = json.load(f)\n",
    "if isinstance(meta[0], int):\n",
    "    meta = [meta[meta[0]]]\n",
    "\n",
    "df = pd.DataFrame()\n",
    "\n",
    "for m in meta:\n",
    "\n",
    "    data_dir = pathlib.Path(m[\"path\"])\n",
    "    if not (data_dir / \"mean_power_spectrum.npy\").exists():\n",
    "        print(f\"File not found in {data_dir}\")\n",
    "        continue\n",
    "    power = np.load(data_dir / \"mean_power_spectrum.npy\")[1:]\n",
    "    freq = np.fft.rfftfreq(len(power) * 2, 1)[1:]\n",
    "\n",
    "    limits = m.get(\"limits\", [None, None])\n",
    "    e, a = calculate_scaling_exponent(freq, power, lower_limit=limits[0], upper_limit=limits[1])\n",
    "    params = data_dir.name.split(\"_\")\n",
    "    df_new = pd.DataFrame({\n",
    "        \"dimension\": int(params[0][1:]),\n",
    "        \"grid\": int(params[1][1:]),\n",
    "        \"relax\": f\"{params[3]} {params[4]}\",\n",
    "        \"alpha\": e,\n",
    "    }, index=[0])\n",
    "    df = pd.concat([df, df_new])\n",
    "\n",
    "    plt.scatter(freq, power, s=3)\n",
    "    # plt.plot(freq, power)\n",
    "    if len(meta) == 1:\n",
    "        plt.plot(freq, np.exp(a.nominal_value) * freq ** e.nominal_value)\n",
    "plt.xscale(\"log\")\n",
    "plt.yscale(\"log\")\n",
    "df = df.sort_values([\"dimension\", \"grid\", \"relax\"])\n",
    "df\n"
   ],
   "outputs": [
    {
     "data": {
      "text/plain": [
       "   dimension  grid   relax             alpha\n",
       "0          4    25  op nco  -1.9329+/-0.0034"
      ],
      "text/html": [
       "<div>\n",
       "<style scoped>\n",
       "    .dataframe tbody tr th:only-of-type {\n",
       "        vertical-align: middle;\n",
       "    }\n",
       "\n",
       "    .dataframe tbody tr th {\n",
       "        vertical-align: top;\n",
       "    }\n",
       "\n",
       "    .dataframe thead th {\n",
       "        text-align: right;\n",
       "    }\n",
       "</style>\n",
       "<table border=\"1\" class=\"dataframe\">\n",
       "  <thead>\n",
       "    <tr style=\"text-align: right;\">\n",
       "      <th></th>\n",
       "      <th>dimension</th>\n",
       "      <th>grid</th>\n",
       "      <th>relax</th>\n",
       "      <th>alpha</th>\n",
       "    </tr>\n",
       "  </thead>\n",
       "  <tbody>\n",
       "    <tr>\n",
       "      <th>0</th>\n",
       "      <td>4</td>\n",
       "      <td>25</td>\n",
       "      <td>op nco</td>\n",
       "      <td>-1.9329+/-0.0034</td>\n",
       "    </tr>\n",
       "  </tbody>\n",
       "</table>\n",
       "</div>"
      ]
     },
     "execution_count": 12,
     "metadata": {},
     "output_type": "execute_result"
    },
    {
     "data": {
      "text/plain": [
       "<Figure size 640x480 with 1 Axes>"
      ],
      "image/png": "[encoded data removed]"
     },
     "metadata": {},
     "output_type": "display_data"
    }
   ],
   "execution_count": 12
  }
 ],
 "metadata": {
  "kernelspec": {
   "display_name": "Python 3",
   "language": "python",
   "name": "python3"
  },
  "language_info": {
   "codemirror_mode": {
    "name": "ipython",
    "version": 2
   },
   "file_extension": ".py",
   "mimetype": "text/x-python",
   "name": "python",
   "nbconvert_exporter": "python",
   "pygments_lexer": "ipython2",
   "version": "2.7.6"
  }
 },
 "nbformat": 4,
 "nbformat_minor": 5
}
