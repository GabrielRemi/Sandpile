{
 "cells": [
  {
   "metadata": {},
   "cell_type": "markdown",
   "source": "# System Testing",
   "id": "de380d4f2a4b986b"
  },
  {
   "cell_type": "code",
   "id": "253362ab24c1c81",
   "metadata": {
    "ExecuteTime": {
     "end_time": "2025-03-19T02:30:12.744684Z",
     "start_time": "2025-03-19T02:30:11.718419Z"
    }
   },
   "source": [
    "from computation import *\n",
    "from computation.simulation import get_memory\n",
    "import multiprocessing as mp\n",
    "from pathlib import Path\n",
    "import matplotlib.pyplot as plt\n",
    "\n",
    "plt.figure(0, figsize=(17, 8))\n",
    "system = Sandpile16Bit(5, 10, 7, False, False)\n",
    "# print(get_memory())\n",
    "# system.simulate(1_000_000)\n",
    "# print(get_memory())\n",
    "s = system.get_average_slopes()\n",
    "plt.subplot(221)\n",
    "plt.plot(range(len(s)), s)\n",
    "\n",
    "plt.subplot(222)\n",
    "r = system.generate_total_dissipation_rate(2800)\n",
    "power = calculate_power_spectrum(r)[1:]\n",
    "freq = calculate_power_frequencies(r)[1:]\n",
    "# print(get_memory())\n",
    "\n",
    "\n",
    "plt.xscale(\"log\")\n",
    "plt.yscale(\"log\")\n",
    "plt.scatter(freq, power, s=3)\n",
    "\n",
    "plt.subplot(223)\n",
    "plt.xscale(\"log\")\n",
    "plt.yscale(\"log\")\n",
    "edges, bins = get_avalanche_hist_3d(system=system)\n",
    "# bins /= bins.sum()\n",
    "print(bins.sum())\n",
    "x, y = edges[0], bins.sum(axis=(1, 2))\n",
    "# ind = y > 0\n",
    "plt.scatter(x, y, s=3)\n",
    "\n",
    "plt.subplot(224)\n",
    "plt.plot(range(len(r)), r)\n"
   ],
   "outputs": [
    {
     "ename": "ValueError",
     "evalue": "zero-size array to reduction operation minimum which has no identity",
     "output_type": "error",
     "traceback": [
      "\u001B[31m---------------------------------------------------------------------------\u001B[39m",
      "\u001B[31mValueError\u001B[39m                                Traceback (most recent call last)",
      "\u001B[36mCell\u001B[39m\u001B[36m \u001B[39m\u001B[32mIn[1]\u001B[39m\u001B[32m, line 30\u001B[39m\n\u001B[32m     28\u001B[39m plt.xscale(\u001B[33m\"\u001B[39m\u001B[33mlog\u001B[39m\u001B[33m\"\u001B[39m)\n\u001B[32m     29\u001B[39m plt.yscale(\u001B[33m\"\u001B[39m\u001B[33mlog\u001B[39m\u001B[33m\"\u001B[39m)\n\u001B[32m---> \u001B[39m\u001B[32m30\u001B[39m edges, bins = \u001B[43mget_avalanche_hist_3d\u001B[49m\u001B[43m(\u001B[49m\u001B[43msystem\u001B[49m\u001B[43m=\u001B[49m\u001B[43msystem\u001B[49m\u001B[43m)\u001B[49m\n\u001B[32m     31\u001B[39m \u001B[38;5;66;03m# bins /= bins.sum()\u001B[39;00m\n\u001B[32m     32\u001B[39m \u001B[38;5;28mprint\u001B[39m(bins.sum())\n",
      "\u001B[36mFile \u001B[39m\u001B[32m~/Documents/Uni/Sandpiles/Code/computation/simulation.py:68\u001B[39m, in \u001B[36mget_avalanche_hist_3d\u001B[39m\u001B[34m(size, time, reach, system)\u001B[39m\n\u001B[32m     66\u001B[39m     data = [size, time, reach]\n\u001B[32m     67\u001B[39m \u001B[38;5;28;01mfor\u001B[39;00m p \u001B[38;5;129;01min\u001B[39;00m data:\n\u001B[32m---> \u001B[39m\u001B[32m68\u001B[39m     edges.append(np.array(\u001B[38;5;28mrange\u001B[39m(\u001B[43mnp\u001B[49m\u001B[43m.\u001B[49m\u001B[43mfloor\u001B[49m\u001B[43m(\u001B[49m\u001B[43mp\u001B[49m\u001B[43m)\u001B[49m\u001B[43m.\u001B[49m\u001B[43mmin\u001B[49m\u001B[43m(\u001B[49m\u001B[43m)\u001B[49m.astype(\u001B[38;5;28mint\u001B[39m), np.ceil(p).max().astype(\u001B[38;5;28mint\u001B[39m) + \u001B[32m1\u001B[39m)) - \u001B[32m0.5\u001B[39m)\n\u001B[32m     70\u001B[39m \u001B[38;5;28;01mfor\u001B[39;00m i \u001B[38;5;129;01min\u001B[39;00m \u001B[38;5;28mrange\u001B[39m(\u001B[32m3\u001B[39m):\n\u001B[32m     71\u001B[39m     \u001B[38;5;28;01mif\u001B[39;00m \u001B[38;5;28mlen\u001B[39m(edges[i]) > \u001B[32m1000\u001B[39m:\n",
      "\u001B[36mFile \u001B[39m\u001B[32m~/.local/lib/python3.12/site-packages/numpy/core/_methods.py:45\u001B[39m, in \u001B[36m_amin\u001B[39m\u001B[34m(a, axis, out, keepdims, initial, where)\u001B[39m\n\u001B[32m     43\u001B[39m \u001B[38;5;28;01mdef\u001B[39;00m \u001B[34m_amin\u001B[39m(a, axis=\u001B[38;5;28;01mNone\u001B[39;00m, out=\u001B[38;5;28;01mNone\u001B[39;00m, keepdims=\u001B[38;5;28;01mFalse\u001B[39;00m,\n\u001B[32m     44\u001B[39m           initial=_NoValue, where=\u001B[38;5;28;01mTrue\u001B[39;00m):\n\u001B[32m---> \u001B[39m\u001B[32m45\u001B[39m     \u001B[38;5;28;01mreturn\u001B[39;00m \u001B[43mumr_minimum\u001B[49m\u001B[43m(\u001B[49m\u001B[43ma\u001B[49m\u001B[43m,\u001B[49m\u001B[43m \u001B[49m\u001B[43maxis\u001B[49m\u001B[43m,\u001B[49m\u001B[43m \u001B[49m\u001B[38;5;28;43;01mNone\u001B[39;49;00m\u001B[43m,\u001B[49m\u001B[43m \u001B[49m\u001B[43mout\u001B[49m\u001B[43m,\u001B[49m\u001B[43m \u001B[49m\u001B[43mkeepdims\u001B[49m\u001B[43m,\u001B[49m\u001B[43m \u001B[49m\u001B[43minitial\u001B[49m\u001B[43m,\u001B[49m\u001B[43m \u001B[49m\u001B[43mwhere\u001B[49m\u001B[43m)\u001B[49m\n",
      "\u001B[31mValueError\u001B[39m: zero-size array to reduction operation minimum which has no identity"
     ]
    },
    {
     "name": "stderr",
     "output_type": "stream",
     "text": [
      "/home/gabriel/.local/lib/python3.12/site-packages/IPython/core/events.py:82: UserWarning: Data has no positive values, and therefore cannot be log-scaled.\n",
      "  func(*args, **kwargs)\n"
     ]
    },
    {
     "data": {
      "text/plain": [
       "<Figure size 1700x800 with 3 Axes>"
      ],
      "image/png": "[encoded data removed]"
     },
     "metadata": {},
     "output_type": "display_data"
    }
   ],
   "execution_count": 1
  },
  {
   "cell_type": "markdown",
   "id": "a384760443b5beb9",
   "metadata": {},
   "source": "## 2D Simulations"
  },
  {
   "cell_type": "code",
   "id": "98076962b92a581d",
   "metadata": {
    "ExecuteTime": {
     "end_time": "2025-03-19T01:58:07.430034Z",
     "start_time": "2025-03-19T01:55:43.512587Z"
    }
   },
   "source": [
    "from itertools import product\n",
    "grid = [5, 10, 20, 40]\n",
    "dim = 2\n",
    "crit = 7\n",
    "b = [True, False]\n",
    "p = [True, False]\n",
    "time_cut_off = [\n",
    "    0, 50, 0, 100,\n",
    "    10_000, 400, 0, 400,\n",
    "    40_000, 1_000, 0, 1_000,\n",
    "    400_000, 5_000, 0, 5_000\n",
    "]\n",
    "run_time = {\n",
    "    5: 1_000_000,\n",
    "    10: 1_000_000,\n",
    "    20: 1_000_000,\n",
    "    40: 1_000_000\n",
    "}\n",
    "\n",
    "data_dir = Path(f\"./data/{dim}D\")\n",
    "data_dir.mkdir(exist_ok=True)\n",
    "\n",
    "\n",
    "\n",
    "for t, (grid, b, p) in zip(time_cut_off, product(grid, b, p)):\n",
    "    system = Sandpile16Bit(dim, grid, 7, b, p) # type: ignore\n",
    "    system.time_cut_off = t\n",
    "    r = run_time[grid]\n",
    "    if grid == 40 and p == True and b == True:\n",
    "        r *= 5\n",
    "    run_multiple_samples(system, data_dir.absolute().__str__(), r, 2800, 200)\n",
    "\n",
    "# system = Sandpile16Bit(dim, 40, 7, True, False) # type: ignore\n",
    "# run_multiple_samples(system, data_dir.absolute().__str__(), run_time[grid] // 10, 2000, 1)\n",
    "\n",
    "\n",
    "\n"
   ],
   "outputs": [
    {
     "data": {
      "text/plain": [
       "d2_g5_c7_op_co:   0%|          | 0/2 [00:00<?, ?it/s]"
      ],
      "application/vnd.jupyter.widget-view+json": {
       "version_major": 2,
       "version_minor": 0,
       "model_id": "e933e45ace1743a1ba58a4148d435115"
      }
     },
     "metadata": {},
     "output_type": "display_data"
    },
    {
     "data": {
      "text/plain": [
       "d2_g5_c7_op_nco:   0%|          | 0/2 [00:00<?, ?it/s]"
      ],
      "application/vnd.jupyter.widget-view+json": {
       "version_major": 2,
       "version_minor": 0,
       "model_id": "f49714e68c9f4c9d8518b87c56832668"
      }
     },
     "metadata": {},
     "output_type": "display_data"
    },
    {
     "data": {
      "text/plain": [
       "d2_g5_c7_cl_co:   0%|          | 0/2 [00:00<?, ?it/s]"
      ],
      "application/vnd.jupyter.widget-view+json": {
       "version_major": 2,
       "version_minor": 0,
       "model_id": "cbd00a9fc53c435b9155643ae7b3f178"
      }
     },
     "metadata": {},
     "output_type": "display_data"
    },
    {
     "name": "stdout",
     "output_type": "stream",
     "text": [
      "No Avalanches generated for /home/gabriel/Documents/Uni/Sandpiles/Code/data/2D/d2_g5_c7_cl_co\n"
     ]
    },
    {
     "data": {
      "text/plain": [
       "d2_g5_c7_cl_nco:   0%|          | 0/2 [00:00<?, ?it/s]"
      ],
      "application/vnd.jupyter.widget-view+json": {
       "version_major": 2,
       "version_minor": 0,
       "model_id": "133fe7eeee584c16bfe39937075cd644"
      }
     },
     "metadata": {},
     "output_type": "display_data"
    },
    {
     "data": {
      "text/plain": [
       "d2_g10_c7_op_co:   0%|          | 0/2 [00:00<?, ?it/s]"
      ],
      "application/vnd.jupyter.widget-view+json": {
       "version_major": 2,
       "version_minor": 0,
       "model_id": "483576a6971040babcef94da5e68aa8f"
      }
     },
     "metadata": {},
     "output_type": "display_data"
    },
    {
     "data": {
      "text/plain": [
       "d2_g10_c7_op_nco:   0%|          | 0/2 [00:00<?, ?it/s]"
      ],
      "application/vnd.jupyter.widget-view+json": {
       "version_major": 2,
       "version_minor": 0,
       "model_id": "45e67cb83e234293b548de03fc213fac"
      }
     },
     "metadata": {},
     "output_type": "display_data"
    },
    {
     "data": {
      "text/plain": [
       "d2_g10_c7_cl_co:   0%|          | 0/2 [00:00<?, ?it/s]"
      ],
      "application/vnd.jupyter.widget-view+json": {
       "version_major": 2,
       "version_minor": 0,
       "model_id": "b5834196eb1e470c99bdb4cb6185de87"
      }
     },
     "metadata": {},
     "output_type": "display_data"
    },
    {
     "data": {
      "text/plain": [
       "d2_g10_c7_cl_nco:   0%|          | 0/2 [00:00<?, ?it/s]"
      ],
      "application/vnd.jupyter.widget-view+json": {
       "version_major": 2,
       "version_minor": 0,
       "model_id": "33f010d26ba2496ca9dbc6be05d3a671"
      }
     },
     "metadata": {},
     "output_type": "display_data"
    },
    {
     "data": {
      "text/plain": [
       "d2_g20_c7_op_co:   0%|          | 0/2 [00:00<?, ?it/s]"
      ],
      "application/vnd.jupyter.widget-view+json": {
       "version_major": 2,
       "version_minor": 0,
       "model_id": "b65147c1149148e487556b1f31a3ee5b"
      }
     },
     "metadata": {},
     "output_type": "display_data"
    },
    {
     "data": {
      "text/plain": [
       "d2_g20_c7_op_nco:   0%|          | 0/2 [00:00<?, ?it/s]"
      ],
      "application/vnd.jupyter.widget-view+json": {
       "version_major": 2,
       "version_minor": 0,
       "model_id": "2d7dfdfc993d447c99b930a67b382189"
      }
     },
     "metadata": {},
     "output_type": "display_data"
    },
    {
     "data": {
      "text/plain": [
       "d2_g20_c7_cl_co:   0%|          | 0/2 [00:00<?, ?it/s]"
      ],
      "application/vnd.jupyter.widget-view+json": {
       "version_major": 2,
       "version_minor": 0,
       "model_id": "9ecd1e9d7ddb49168592975360955a91"
      }
     },
     "metadata": {},
     "output_type": "display_data"
    },
    {
     "data": {
      "text/plain": [
       "d2_g20_c7_cl_nco:   0%|          | 0/2 [00:00<?, ?it/s]"
      ],
      "application/vnd.jupyter.widget-view+json": {
       "version_major": 2,
       "version_minor": 0,
       "model_id": "cfbf3d0cd3de424f92af6319a316f954"
      }
     },
     "metadata": {},
     "output_type": "display_data"
    },
    {
     "data": {
      "text/plain": [
       "d2_g40_c7_op_co:   0%|          | 0/2 [00:00<?, ?it/s]"
      ],
      "application/vnd.jupyter.widget-view+json": {
       "version_major": 2,
       "version_minor": 0,
       "model_id": "77ca7035de2e4c7ab09558707105d0c8"
      }
     },
     "metadata": {},
     "output_type": "display_data"
    },
    {
     "data": {
      "text/plain": [
       "d2_g40_c7_op_nco:   0%|          | 0/2 [00:00<?, ?it/s]"
      ],
      "application/vnd.jupyter.widget-view+json": {
       "version_major": 2,
       "version_minor": 0,
       "model_id": "afea4df4b76d4f64b1e67bb821b8b233"
      }
     },
     "metadata": {},
     "output_type": "display_data"
    },
    {
     "data": {
      "text/plain": [
       "d2_g40_c7_cl_co:   0%|          | 0/2 [00:00<?, ?it/s]"
      ],
      "application/vnd.jupyter.widget-view+json": {
       "version_major": 2,
       "version_minor": 0,
       "model_id": "ec636bf8b28a4d86bbac5fb8bdeed45b"
      }
     },
     "metadata": {},
     "output_type": "display_data"
    },
    {
     "data": {
      "text/plain": [
       "d2_g40_c7_cl_nco:   0%|          | 0/2 [00:00<?, ?it/s]"
      ],
      "application/vnd.jupyter.widget-view+json": {
       "version_major": 2,
       "version_minor": 0,
       "model_id": "bfd34ce622d84fc5b2a8972f1d050d0c"
      }
     },
     "metadata": {},
     "output_type": "display_data"
    }
   ],
   "execution_count": 2
  },
  {
   "metadata": {},
   "cell_type": "markdown",
   "source": "# 3D Simulations",
   "id": "fe9b848bf16f43a1"
  },
  {
   "metadata": {
    "ExecuteTime": {
     "end_time": "2025-03-18T21:44:10.645832Z",
     "start_time": "2025-03-18T21:42:12.074357Z"
    }
   },
   "cell_type": "code",
   "source": [
    "\n",
    "## 3D Simulations\n",
    "from itertools import product\n",
    "\n",
    "\n",
    "grid = [10, 20]\n",
    "dim = 3\n",
    "crit = 7\n",
    "b = [True, False]\n",
    "p = [True, False]\n",
    "time_cut_off = [\n",
    "    20_000, 2_000, 0, 2_000,\n",
    "    600_000, 15_000, 0, 15_000,\n",
    "    0, 100_000, 0, 100_000\n",
    "]\n",
    "run_time = {\n",
    "    10: 1_000_000,\n",
    "    20: 5_000_000,\n",
    "    40: 5_000_000\n",
    "}\n",
    "\n",
    "data_dir = Path(f\"./data/{dim}D\")\n",
    "data_dir.mkdir(exist_ok=True)\n",
    "\n",
    "for t, (grid, b, p) in zip(time_cut_off, product(grid, b, p)):\n",
    "    if b == False and p == True:\n",
    "        continue\n",
    "    if grid == 40:\n",
    "        continue\n",
    "    system = Sandpile16Bit(dim, grid, 7, b, p)  # type: ignore\n",
    "    system.time_cut_off = t\n",
    "    run_multiple_samples(system, data_dir.absolute().__str__(), run_time[grid], 3000, 50)\n",
    "\n",
    "# system = Sandpile16Bit(dim, 40, 7, True, False) # type: ignore\n",
    "# run_multiple_samples(system, data_dir.absolute().__str__(), run_time[grid] // 10, 2000, 1)\n",
    "\n"
   ],
   "id": "91c5355ec1e8ad2b",
   "outputs": [
    {
     "data": {
      "text/plain": [
       "d3_g10_c7_op_co:   0%|          | 0/10 [00:00<?, ?it/s]"
      ],
      "application/vnd.jupyter.widget-view+json": {
       "version_major": 2,
       "version_minor": 0,
       "model_id": "f2df5e73735c4146981c67191daec286"
      }
     },
     "metadata": {},
     "output_type": "display_data"
    },
    {
     "data": {
      "text/plain": [
       "d3_g10_c7_op_nco:   0%|          | 0/10 [00:00<?, ?it/s]"
      ],
      "application/vnd.jupyter.widget-view+json": {
       "version_major": 2,
       "version_minor": 0,
       "model_id": "568d7cc6edf04e49b5d4b51c985dd4b1"
      }
     },
     "metadata": {},
     "output_type": "display_data"
    },
    {
     "data": {
      "text/plain": [
       "d3_g10_c7_cl_nco:   0%|          | 0/10 [00:00<?, ?it/s]"
      ],
      "application/vnd.jupyter.widget-view+json": {
       "version_major": 2,
       "version_minor": 0,
       "model_id": "8b394e5a55a44622838fe781bf452ad9"
      }
     },
     "metadata": {},
     "output_type": "display_data"
    },
    {
     "data": {
      "text/plain": [
       "d3_g20_c7_op_co:   0%|          | 0/10 [00:00<?, ?it/s]"
      ],
      "application/vnd.jupyter.widget-view+json": {
       "version_major": 2,
       "version_minor": 0,
       "model_id": "4f3e2e5c15c949adb076dfb0b5f0ccd7"
      }
     },
     "metadata": {},
     "output_type": "display_data"
    },
    {
     "data": {
      "text/plain": [
       "d3_g20_c7_op_nco:   0%|          | 0/10 [00:00<?, ?it/s]"
      ],
      "application/vnd.jupyter.widget-view+json": {
       "version_major": 2,
       "version_minor": 0,
       "model_id": "4ac2019979114c6591487b2426d3f302"
      }
     },
     "metadata": {},
     "output_type": "display_data"
    },
    {
     "data": {
      "text/plain": [
       "d3_g20_c7_cl_nco:   0%|          | 0/10 [00:00<?, ?it/s]"
      ],
      "application/vnd.jupyter.widget-view+json": {
       "version_major": 2,
       "version_minor": 0,
       "model_id": "9a7ac3e8b2524a9d9af49689572ab699"
      }
     },
     "metadata": {},
     "output_type": "display_data"
    }
   ],
   "execution_count": 4
  },
  {
   "cell_type": "markdown",
   "id": "9478e998574d6907",
   "metadata": {},
   "source": [
    "# 4D Simulations\n",
    "    "
   ]
  },
  {
   "cell_type": "code",
   "id": "446dcefb20b30f0e",
   "metadata": {
    "ExecuteTime": {
     "end_time": "2025-03-18T22:02:01.150130Z",
     "start_time": "2025-03-18T22:01:37.341374Z"
    }
   },
   "source": [
    "## 4D Simulations\n",
    "from itertools import product\n",
    "\n",
    "\n",
    "grid = [15]\n",
    "dim = 4\n",
    "crit = 7\n",
    "b = [True, False]\n",
    "p = [True, False]\n",
    "time_cut_off = [\n",
    "    0, 150_000, 0, 150_000\n",
    "]\n",
    "run_time = {\n",
    "    15: 1_000_000,\n",
    "    20: 10_000_000,\n",
    "    40: 10_000_000\n",
    "}\n",
    "\n",
    "data_dir = Path(f\"./data/{dim}D\")\n",
    "data_dir.mkdir(exist_ok=True)\n",
    "\n",
    "for t, (grid, b, p) in zip(time_cut_off, product(grid, b, p)):\n",
    "    if b == False and p == True:\n",
    "        continue\n",
    "    if grid == 40:\n",
    "        continue\n",
    "    if b == True and p == True:\n",
    "        continue\n",
    "    system = Sandpile16Bit(dim, grid, 7, b, p)  # type: ignore\n",
    "    system.time_cut_off = t\n",
    "    run_multiple_samples(system, data_dir.absolute().__str__(), run_time[grid], 3000, 50)\n",
    "\n",
    "# system = Sandpile16Bit(dim, 40, 7, True, False) # type: ignore\n",
    "# run_multiple_samples(system, data_dir.absolute().__str__(), run_time[grid] // 10, 2000, 1)\n"
   ],
   "outputs": [
    {
     "data": {
      "text/plain": [
       "d4_g15_c7_op_nco:   0%|          | 0/10 [00:00<?, ?it/s]"
      ],
      "application/vnd.jupyter.widget-view+json": {
       "version_major": 2,
       "version_minor": 0,
       "model_id": "b9e0578a731c4bc59bdaa54e19448a30"
      }
     },
     "metadata": {},
     "output_type": "display_data"
    },
    {
     "data": {
      "text/plain": [
       "d4_g15_c7_cl_nco:   0%|          | 0/10 [00:00<?, ?it/s]"
      ],
      "application/vnd.jupyter.widget-view+json": {
       "version_major": 2,
       "version_minor": 0,
       "model_id": "ea483f0052bd48f894849fea83a4f7a2"
      }
     },
     "metadata": {},
     "output_type": "display_data"
    }
   ],
   "execution_count": 16
  },
  {
   "cell_type": "markdown",
   "id": "915017e35fd3c24b",
   "metadata": {},
   "source": "# 5D Simulations"
  },
  {
   "metadata": {
    "ExecuteTime": {
     "end_time": "2025-03-19T00:24:50.488780Z",
     "start_time": "2025-03-18T22:02:28.083452Z"
    }
   },
   "cell_type": "code",
   "source": [
    "## 5D Simulations\n",
    "from itertools import product\n",
    "\n",
    "\n",
    "grid = [10]\n",
    "dim = 5\n",
    "crit = 7\n",
    "b = [True, False]\n",
    "p = [True, False]\n",
    "time_cut_off = [\n",
    "    0, 200_000, 0, 200_000\n",
    "]\n",
    "run_time = {\n",
    "    15: 1_000_000,\n",
    "}\n",
    "\n",
    "data_dir = Path(f\"./data/{dim}D\")\n",
    "data_dir.mkdir(exist_ok=True)\n",
    "\n",
    "for t, (grid, b, p) in zip(time_cut_off, product(grid, b, p)):\n",
    "    if b == False and p == True:\n",
    "        continue\n",
    "    if b == True and p == True:\n",
    "        continue\n",
    "    system = Sandpile16Bit(dim, grid, 7, b, p)  # type: ignore\n",
    "    system.time_cut_off = t\n",
    "    run_multiple_samples(system, data_dir.absolute().__str__(), run_time[grid], 3000, 50)\n"
   ],
   "id": "96c366f9cc21ecb9",
   "outputs": [
    {
     "data": {
      "text/plain": [
       "d5_g15_c7_op_nco:   0%|          | 0/10 [00:00<?, ?it/s]"
      ],
      "application/vnd.jupyter.widget-view+json": {
       "version_major": 2,
       "version_minor": 0,
       "model_id": "1d894e8417904302b1e1d97f6857b6ef"
      }
     },
     "metadata": {},
     "output_type": "display_data"
    },
    {
     "ename": "KeyboardInterrupt",
     "evalue": "",
     "output_type": "error",
     "traceback": [
      "\u001B[31m---------------------------------------------------------------------------\u001B[39m",
      "\u001B[31mIndexError\u001B[39m                                Traceback (most recent call last)",
      "\u001B[36mFile \u001B[39m\u001B[32m~/miniconda3/lib/python3.12/multiprocessing/pool.py:856\u001B[39m, in \u001B[36mIMapIterator.next\u001B[39m\u001B[34m(self, timeout)\u001B[39m\n\u001B[32m    855\u001B[39m \u001B[38;5;28;01mtry\u001B[39;00m:\n\u001B[32m--> \u001B[39m\u001B[32m856\u001B[39m     item = \u001B[38;5;28;43mself\u001B[39;49m\u001B[43m.\u001B[49m\u001B[43m_items\u001B[49m\u001B[43m.\u001B[49m\u001B[43mpopleft\u001B[49m\u001B[43m(\u001B[49m\u001B[43m)\u001B[49m\n\u001B[32m    857\u001B[39m \u001B[38;5;28;01mexcept\u001B[39;00m \u001B[38;5;167;01mIndexError\u001B[39;00m:\n",
      "\u001B[31mIndexError\u001B[39m: pop from an empty deque",
      "\nDuring handling of the above exception, another exception occurred:\n",
      "\u001B[31mKeyboardInterrupt\u001B[39m                         Traceback (most recent call last)",
      "\u001B[36mCell\u001B[39m\u001B[36m \u001B[39m\u001B[32mIn[17]\u001B[39m\u001B[32m, line 29\u001B[39m\n\u001B[32m     27\u001B[39m system = Sandpile16Bit(dim, grid, \u001B[32m7\u001B[39m, b, p)  \u001B[38;5;66;03m# type: ignore\u001B[39;00m\n\u001B[32m     28\u001B[39m system.time_cut_off = t\n\u001B[32m---> \u001B[39m\u001B[32m29\u001B[39m \u001B[43mrun_multiple_samples\u001B[49m\u001B[43m(\u001B[49m\u001B[43msystem\u001B[49m\u001B[43m,\u001B[49m\u001B[43m \u001B[49m\u001B[43mdata_dir\u001B[49m\u001B[43m.\u001B[49m\u001B[43mabsolute\u001B[49m\u001B[43m(\u001B[49m\u001B[43m)\u001B[49m\u001B[43m.\u001B[49m\u001B[34;43m__str__\u001B[39;49m\u001B[43m(\u001B[49m\u001B[43m)\u001B[49m\u001B[43m,\u001B[49m\u001B[43m \u001B[49m\u001B[43mrun_time\u001B[49m\u001B[43m[\u001B[49m\u001B[43mgrid\u001B[49m\u001B[43m]\u001B[49m\u001B[43m \u001B[49m\u001B[43m/\u001B[49m\u001B[43m/\u001B[49m\u001B[43m \u001B[49m\u001B[32;43m2\u001B[39;49m\u001B[43m,\u001B[49m\u001B[43m \u001B[49m\u001B[32;43m5000\u001B[39;49m\u001B[43m,\u001B[49m\u001B[43m \u001B[49m\u001B[32;43m10\u001B[39;49m\u001B[43m)\u001B[49m\n",
      "\u001B[36mFile \u001B[39m\u001B[32m~/Documents/Uni/Sandpiles/Code/computation/simulation.py:229\u001B[39m, in \u001B[36mrun_multiple_samples\u001B[39m\u001B[34m(system, folder_path, time_steps, total_dissipation_time, sample_count, start_cfg, desc, **kwargs)\u001B[39m\n\u001B[32m    227\u001B[39m \u001B[38;5;66;03m# ------RUN----------\u001B[39;00m\n\u001B[32m    228\u001B[39m \u001B[38;5;28;01mwith\u001B[39;00m Pool(cpu_count() - \u001B[32m2\u001B[39m) \u001B[38;5;28;01mas\u001B[39;00m pool:\n\u001B[32m--> \u001B[39m\u001B[32m229\u001B[39m     \u001B[38;5;28;43mlist\u001B[39;49m\u001B[43m(\u001B[49m\u001B[43mtqdm\u001B[49m\u001B[43m(\u001B[49m\u001B[43mpool\u001B[49m\u001B[43m.\u001B[49m\u001B[43mimap_unordered\u001B[49m\u001B[43m(\u001B[49m\u001B[43m_process\u001B[49m\u001B[43m,\u001B[49m\u001B[43m \u001B[49m\u001B[43mtasks\u001B[49m\u001B[43m)\u001B[49m\u001B[43m,\u001B[49m\u001B[43m \u001B[49m\u001B[43mtotal\u001B[49m\u001B[43m=\u001B[49m\u001B[43msample_count\u001B[49m\u001B[43m,\u001B[49m\u001B[43m \u001B[49m\u001B[43mdesc\u001B[49m\u001B[43m=\u001B[49m\u001B[43msystem_desc\u001B[49m\u001B[43m)\u001B[49m\u001B[43m)\u001B[49m\n\u001B[32m    231\u001B[39m \u001B[38;5;66;03m# Generate Data to analyze\u001B[39;00m\n\u001B[32m    232\u001B[39m edges, bins = generate_3d_distribution_from_data_samples(\u001B[38;5;28mlist\u001B[39m(data_dir.glob(\u001B[33m\"\u001B[39m\u001B[33mavalanche_data_*.npz\u001B[39m\u001B[33m\"\u001B[39m)))\n",
      "\u001B[36mFile \u001B[39m\u001B[32m~/.local/lib/python3.12/site-packages/tqdm/notebook.py:250\u001B[39m, in \u001B[36mtqdm_notebook.__iter__\u001B[39m\u001B[34m(self)\u001B[39m\n\u001B[32m    248\u001B[39m \u001B[38;5;28;01mtry\u001B[39;00m:\n\u001B[32m    249\u001B[39m     it = \u001B[38;5;28msuper\u001B[39m(tqdm_notebook, \u001B[38;5;28mself\u001B[39m).\u001B[34m__iter__\u001B[39m()\n\u001B[32m--> \u001B[39m\u001B[32m250\u001B[39m \u001B[43m    \u001B[49m\u001B[38;5;28;43;01mfor\u001B[39;49;00m\u001B[43m \u001B[49m\u001B[43mobj\u001B[49m\u001B[43m \u001B[49m\u001B[38;5;129;43;01min\u001B[39;49;00m\u001B[43m \u001B[49m\u001B[43mit\u001B[49m\u001B[43m:\u001B[49m\n\u001B[32m    251\u001B[39m \u001B[43m        \u001B[49m\u001B[38;5;66;43;03m# return super(tqdm...) will not catch exception\u001B[39;49;00m\n\u001B[32m    252\u001B[39m \u001B[43m        \u001B[49m\u001B[38;5;28;43;01myield\u001B[39;49;00m\u001B[43m \u001B[49m\u001B[43mobj\u001B[49m\n\u001B[32m    253\u001B[39m \u001B[38;5;66;03m# NB: except ... [ as ...] breaks IPython async KeyboardInterrupt\u001B[39;00m\n",
      "\u001B[36mFile \u001B[39m\u001B[32m~/.local/lib/python3.12/site-packages/tqdm/std.py:1181\u001B[39m, in \u001B[36mtqdm.__iter__\u001B[39m\u001B[34m(self)\u001B[39m\n\u001B[32m   1178\u001B[39m time = \u001B[38;5;28mself\u001B[39m._time\n\u001B[32m   1180\u001B[39m \u001B[38;5;28;01mtry\u001B[39;00m:\n\u001B[32m-> \u001B[39m\u001B[32m1181\u001B[39m \u001B[43m    \u001B[49m\u001B[38;5;28;43;01mfor\u001B[39;49;00m\u001B[43m \u001B[49m\u001B[43mobj\u001B[49m\u001B[43m \u001B[49m\u001B[38;5;129;43;01min\u001B[39;49;00m\u001B[43m \u001B[49m\u001B[43miterable\u001B[49m\u001B[43m:\u001B[49m\n\u001B[32m   1182\u001B[39m \u001B[43m        \u001B[49m\u001B[38;5;28;43;01myield\u001B[39;49;00m\u001B[43m \u001B[49m\u001B[43mobj\u001B[49m\n\u001B[32m   1183\u001B[39m \u001B[43m        \u001B[49m\u001B[38;5;66;43;03m# Update and possibly print the progressbar.\u001B[39;49;00m\n\u001B[32m   1184\u001B[39m \u001B[43m        \u001B[49m\u001B[38;5;66;43;03m# Note: does not call self.update(1) for speed optimisation.\u001B[39;49;00m\n",
      "\u001B[36mFile \u001B[39m\u001B[32m~/miniconda3/lib/python3.12/multiprocessing/pool.py:861\u001B[39m, in \u001B[36mIMapIterator.next\u001B[39m\u001B[34m(self, timeout)\u001B[39m\n\u001B[32m    859\u001B[39m     \u001B[38;5;28mself\u001B[39m._pool = \u001B[38;5;28;01mNone\u001B[39;00m\n\u001B[32m    860\u001B[39m     \u001B[38;5;28;01mraise\u001B[39;00m \u001B[38;5;167;01mStopIteration\u001B[39;00m \u001B[38;5;28;01mfrom\u001B[39;00m \u001B[38;5;28;01mNone\u001B[39;00m\n\u001B[32m--> \u001B[39m\u001B[32m861\u001B[39m \u001B[38;5;28;43mself\u001B[39;49m\u001B[43m.\u001B[49m\u001B[43m_cond\u001B[49m\u001B[43m.\u001B[49m\u001B[43mwait\u001B[49m\u001B[43m(\u001B[49m\u001B[43mtimeout\u001B[49m\u001B[43m)\u001B[49m\n\u001B[32m    862\u001B[39m \u001B[38;5;28;01mtry\u001B[39;00m:\n\u001B[32m    863\u001B[39m     item = \u001B[38;5;28mself\u001B[39m._items.popleft()\n",
      "\u001B[36mFile \u001B[39m\u001B[32m~/miniconda3/lib/python3.12/threading.py:355\u001B[39m, in \u001B[36mCondition.wait\u001B[39m\u001B[34m(self, timeout)\u001B[39m\n\u001B[32m    353\u001B[39m \u001B[38;5;28;01mtry\u001B[39;00m:    \u001B[38;5;66;03m# restore state no matter what (e.g., KeyboardInterrupt)\u001B[39;00m\n\u001B[32m    354\u001B[39m     \u001B[38;5;28;01mif\u001B[39;00m timeout \u001B[38;5;129;01mis\u001B[39;00m \u001B[38;5;28;01mNone\u001B[39;00m:\n\u001B[32m--> \u001B[39m\u001B[32m355\u001B[39m         \u001B[43mwaiter\u001B[49m\u001B[43m.\u001B[49m\u001B[43macquire\u001B[49m\u001B[43m(\u001B[49m\u001B[43m)\u001B[49m\n\u001B[32m    356\u001B[39m         gotit = \u001B[38;5;28;01mTrue\u001B[39;00m\n\u001B[32m    357\u001B[39m     \u001B[38;5;28;01melse\u001B[39;00m:\n",
      "\u001B[31mKeyboardInterrupt\u001B[39m: "
     ]
    }
   ],
   "execution_count": 17
  }
 ],
 "metadata": {
  "kernelspec": {
   "display_name": "base",
   "language": "python",
   "name": "python3"
  },
  "language_info": {
   "codemirror_mode": {
    "name": "ipython",
    "version": 3
   },
   "file_extension": ".py",
   "mimetype": "text/x-python",
   "name": "python",
   "nbconvert_exporter": "python",
   "pygments_lexer": "ipython3",
   "version": "3.12.9"
  }
 },
 "nbformat": 4,
 "nbformat_minor": 5
}
