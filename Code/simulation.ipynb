{
 "cells": [
  {
   "metadata": {
    "ExecuteTime": {
     "end_time": "2025-03-02T16:14:30.048065Z",
     "start_time": "2025-03-02T16:14:28.058737Z"
    }
   },
   "cell_type": "code",
   "source": [
    "\n",
    "import time\n",
    "from os import cpu_count\n",
    "\n",
    "import matplotlib.pyplot as plt\n",
    "import numpy as np\n",
    "from torch.onnx.symbolic_opset11 import chunk\n",
    "\n",
    "from Code.analysis import draw_slope\n",
    "from Code.sandpile import run_multiple_samples\n",
    "from sandpile import *\n",
    "from utils import *\n",
    "from multiprocessing import Pool, Process, set_start_method\n",
    "import multiprocessing as mp\n",
    "\n"
   ],
   "id": "f86b781db9bf8d4a",
   "outputs": [],
   "execution_count": 1
  },
  {
   "metadata": {},
   "cell_type": "markdown",
   "source": "# Simulation ",
   "id": "32fbacbeeecdd7a8"
  },
  {
   "metadata": {},
   "cell_type": "markdown",
   "source": "## 2D grid comparisons",
   "id": "a384760443b5beb9"
  },
  {
   "metadata": {
    "ExecuteTime": {
     "end_time": "2025-03-02T13:33:52.414407Z",
     "start_time": "2025-03-02T13:33:52.283807Z"
    }
   },
   "cell_type": "code",
   "source": [
    "params = [\n",
    "    # (20, \"open\", \"conservative\"),\n",
    "    # (20, \"open\", \"non conservative\"),\n",
    "    # (20, \"closed\", \"conservative\"),\n",
    "    # (20, \"closed\", \"non conservative\"),\n",
    "    # (5, \"open\", \"conservative\"),\n",
    "    # (10, \"open\", \"conservative\"),\n",
    "    # (20, \"open\", \"conservative\"),\n",
    "    # (40, \"open\", \"conservative\"),\n",
    "    # (5, \"closed\", \"non conservative\"),\n",
    "    # (10, \"closed\", \"non conservative\"),\n",
    "    # (20, \"closed\", \"non conservative\"),\n",
    "    # (40, \"closed\", \"non conservative\"),\n",
    "    # (5, \"open\", \"non conservative\"),\n",
    "    # (10, \"open\", \"non conservative\"),\n",
    "    # (20, \"open\", \"non conservative\"),\n",
    "    # (40, \"open\", \"non conservative\"),\n",
    "]\n",
    "\n",
    "\n",
    "def worker(func, args):\n",
    "    return func(*args)\n",
    "\n",
    "\n",
    "tasks = []\n",
    "for grid, b, p in params:\n",
    "    system = SandpileND(2, grid, 7, b, p)\n",
    "    x = run_multiple_samples(system, \"./data\", 1_000_000, 1, step=50, run=False, desc=f\"{grid} {b}, {p}\")\n",
    "    tasks.extend(x)\n",
    "\n",
    "with mp.Pool(mp.cpu_count() - 2) as pool:\n",
    "    pool.starmap(worker, tasks)\n"
   ],
   "id": "98076962b92a581d",
   "outputs": [],
   "execution_count": 12
  },
  {
   "metadata": {},
   "cell_type": "markdown",
   "source": [
    "# ND closed conservative simulations\n",
    "    "
   ],
   "id": "9478e998574d6907"
  },
  {
   "metadata": {
    "ExecuteTime": {
     "end_time": "2025-03-02T17:33:43.646551Z",
     "start_time": "2025-03-02T16:14:30.049815Z"
    }
   },
   "cell_type": "code",
   "source": [
    "def worker(func, args):\n",
    "    return func(*args)\n",
    "\n",
    "\n",
    "params = [\n",
    "    # (2, 40),\n",
    "    # (3, 20),\n",
    "    # (4, 12),\n",
    "    # (5, 10),\n",
    "    (6, 10)\n",
    "]\n",
    "\n",
    "tasks = []\n",
    "for dim, grid in params:\n",
    "    system = SandpileND(dim, grid, 7, \"closed\", \"non conservative\")\n",
    "    x = run_multiple_samples(system, \"./data\", 1_000_000, 5, step=50, run=False, desc=f\"dim {dim}, grid {grid}\")\n",
    "    tasks.extend(x)\n",
    "\n",
    "with mp.Pool(mp.cpu_count() - 2) as pool:\n",
    "    pool.starmap(worker, tasks)\n",
    "\n"
   ],
   "id": "446dcefb20b30f0e",
   "outputs": [
    {
     "name": "stdout",
     "output_type": "stream",
     "text": [
      " "
     ]
    },
    {
     "data": {
      "text/plain": [
       "dim 6, grid 10 0:   0%|          | 0/999999 [00:00<?, ?it/s]"
      ],
      "application/vnd.jupyter.widget-view+json": {
       "version_major": 2,
       "version_minor": 0,
       "model_id": "7925d529fc05405786506b28e2bf078b"
      }
     },
     "metadata": {},
     "output_type": "display_data"
    },
    {
     "name": "stdout",
     "output_type": "stream",
     "text": [
      " "
     ]
    },
    {
     "data": {
      "text/plain": [
       "dim 6, grid 10 1:   0%|          | 0/999999 [00:00<?, ?it/s]"
      ],
      "application/vnd.jupyter.widget-view+json": {
       "version_major": 2,
       "version_minor": 0,
       "model_id": "f4b0cd8636b74e74a33c2dc049eed408"
      }
     },
     "metadata": {},
     "output_type": "display_data"
    },
    {
     "name": "stdout",
     "output_type": "stream",
     "text": [
      " "
     ]
    },
    {
     "data": {
      "text/plain": [
       "dim 6, grid 10 2:   0%|          | 0/999999 [00:00<?, ?it/s]"
      ],
      "application/vnd.jupyter.widget-view+json": {
       "version_major": 2,
       "version_minor": 0,
       "model_id": "cc6c18726eea439ebd32e034d1e4aac6"
      }
     },
     "metadata": {},
     "output_type": "display_data"
    },
    {
     "name": "stdout",
     "output_type": "stream",
     "text": [
      " "
     ]
    },
    {
     "data": {
      "text/plain": [
       "dim 6, grid 10 3:   0%|          | 0/999999 [00:00<?, ?it/s]"
      ],
      "application/vnd.jupyter.widget-view+json": {
       "version_major": 2,
       "version_minor": 0,
       "model_id": "d710c416fb6c4ede8540cb6bd2167efa"
      }
     },
     "metadata": {},
     "output_type": "display_data"
    },
    {
     "name": "stdout",
     "output_type": "stream",
     "text": [
      " "
     ]
    },
    {
     "data": {
      "text/plain": [
       "dim 6, grid 10 4:   0%|          | 0/999999 [00:00<?, ?it/s]"
      ],
      "application/vnd.jupyter.widget-view+json": {
       "version_major": 2,
       "version_minor": 0,
       "model_id": "3834a9b636ad4106a93f214a6ff74fd4"
      }
     },
     "metadata": {},
     "output_type": "display_data"
    }
   ],
   "execution_count": 2
  },
  {
   "metadata": {},
   "cell_type": "markdown",
   "source": "# Visualisation",
   "id": "915017e35fd3c24b"
  },
  {
   "metadata": {
    "ExecuteTime": {
     "end_time": "2025-03-02T17:34:24.746732Z",
     "start_time": "2025-03-02T17:34:24.603752Z"
    }
   },
   "cell_type": "code",
   "source": [
    "from utils import *\n",
    "from analysis import *\n",
    "\n",
    "\n",
    "dim, grid = 6, 10\n",
    "data_dir = pathlib.Path(f\"./data/d{dim}_g{grid}_c7_cl_nco/data_2.slopes.npy\").resolve().absolute()\n",
    "\n",
    "step, slope = load_slope_values(data_dir.__str__())\n",
    "plt.figure(\"visualisation\")\n",
    "draw_slope(slope, step)\n",
    "\n"
   ],
   "id": "bba97ee5e1d1d4aa",
   "outputs": [
    {
     "data": {
      "text/plain": [
       "<Figure size 640x480 with 1 Axes>"
      ],
      "image/png": "[encoded data removed]"
     },
     "metadata": {},
     "output_type": "display_data"
    }
   ],
   "execution_count": 10
  }
 ],
 "metadata": {
  "kernelspec": {
   "display_name": "Python 3",
   "language": "python",
   "name": "python3"
  },
  "language_info": {
   "codemirror_mode": {
    "name": "ipython",
    "version": 2
   },
   "file_extension": ".py",
   "mimetype": "text/x-python",
   "name": "python",
   "nbconvert_exporter": "python",
   "pygments_lexer": "ipython2",
   "version": "2.7.6"
  }
 },
 "nbformat": 4,
 "nbformat_minor": 5
}
