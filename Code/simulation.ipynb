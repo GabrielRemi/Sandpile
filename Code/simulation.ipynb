{
 "cells": [
  {
   "cell_type": "code",
   "execution_count": 1,
   "id": "253362ab24c1c81",
   "metadata": {
    "ExecuteTime": {
     "end_time": "2025-03-05T20:26:29.435947Z",
     "start_time": "2025-03-05T20:26:29.172116Z"
    }
   },
   "outputs": [],
   "source": [
    "from sandpile import *\n",
    "import multiprocessing as mp\n",
    "from pathlib import Path"
   ]
  },
  {
   "cell_type": "markdown",
   "id": "a384760443b5beb9",
   "metadata": {},
   "source": [
    "## 2D grid comparisons"
   ]
  },
  {
   "cell_type": "code",
   "execution_count": null,
   "id": "98076962b92a581d",
   "metadata": {
    "ExecuteTime": {
     "end_time": "2025-03-05T20:26:33.544704133Z",
     "start_time": "2025-03-05T20:26:30.140385Z"
    }
   },
   "outputs": [
    {
     "data": {
      "application/vnd.jupyter.widget-view+json": {
       "model_id": "0757debfb2eb4e2fa20a055288cfbc58",
       "version_major": 2,
       "version_minor": 0
      },
      "text/plain": [
       "d2_g20_c7_op_co:   0%|          | 0/50 [00:00<?, ?it/s]"
      ]
     },
     "metadata": {},
     "output_type": "display_data"
    },
    {
     "data": {
      "application/vnd.jupyter.widget-view+json": {
       "model_id": "660aca8de1e7401a84d95d89382e68cb",
       "version_major": 2,
       "version_minor": 0
      },
      "text/plain": [
       "d2_g20_c7_op_nco:   0%|          | 0/50 [00:00<?, ?it/s]"
      ]
     },
     "metadata": {},
     "output_type": "display_data"
    },
    {
     "data": {
      "application/vnd.jupyter.widget-view+json": {
       "model_id": "972513c233ce4f5d9ae80c7814cc8cbf",
       "version_major": 2,
       "version_minor": 0
      },
      "text/plain": [
       "d2_g20_c7_cl_co:   0%|          | 0/50 [00:00<?, ?it/s]"
      ]
     },
     "metadata": {},
     "output_type": "display_data"
    },
    {
     "data": {
      "application/vnd.jupyter.widget-view+json": {
       "model_id": "39fb218fc5514250a096a6e1c36aa4a4",
       "version_major": 2,
       "version_minor": 0
      },
      "text/plain": [
       "d2_g20_c7_cl_nco:   0%|          | 0/50 [00:00<?, ?it/s]"
      ]
     },
     "metadata": {},
     "output_type": "display_data"
    },
    {
     "data": {
      "application/vnd.jupyter.widget-view+json": {
       "model_id": "38959bc006064bd48d069afa84b19114",
       "version_major": 2,
       "version_minor": 0
      },
      "text/plain": [
       "d2_g5_c7_op_co:   0%|          | 0/50 [00:00<?, ?it/s]"
      ]
     },
     "metadata": {},
     "output_type": "display_data"
    },
    {
     "data": {
      "application/vnd.jupyter.widget-view+json": {
       "model_id": "4b2d9803cf4847aa8782ef8d02c55a07",
       "version_major": 2,
       "version_minor": 0
      },
      "text/plain": [
       "d2_g10_c7_op_co:   0%|          | 0/50 [00:00<?, ?it/s]"
      ]
     },
     "metadata": {},
     "output_type": "display_data"
    },
    {
     "data": {
      "application/vnd.jupyter.widget-view+json": {
       "model_id": "da2bb9f89af54672a4dc3e7f1555ad76",
       "version_major": 2,
       "version_minor": 0
      },
      "text/plain": [
       "d2_g40_c7_op_co:   0%|          | 0/50 [00:00<?, ?it/s]"
      ]
     },
     "metadata": {},
     "output_type": "display_data"
    },
    {
     "data": {
      "application/vnd.jupyter.widget-view+json": {
       "model_id": "275f8fcd16104f0b9730273d4cbf7908",
       "version_major": 2,
       "version_minor": 0
      },
      "text/plain": [
       "d2_g5_c7_cl_nco:   0%|          | 0/50 [00:00<?, ?it/s]"
      ]
     },
     "metadata": {},
     "output_type": "display_data"
    },
    {
     "data": {
      "application/vnd.jupyter.widget-view+json": {
       "model_id": "973f7f2c2c8f42d6ab6cc4ab17cee363",
       "version_major": 2,
       "version_minor": 0
      },
      "text/plain": [
       "d2_g10_c7_cl_nco:   0%|          | 0/50 [00:00<?, ?it/s]"
      ]
     },
     "metadata": {},
     "output_type": "display_data"
    },
    {
     "data": {
      "application/vnd.jupyter.widget-view+json": {
       "model_id": "3c648f8a1fc242918c1f23b068857a97",
       "version_major": 2,
       "version_minor": 0
      },
      "text/plain": [
       "d2_g40_c7_cl_nco:   0%|          | 0/50 [00:00<?, ?it/s]"
      ]
     },
     "metadata": {},
     "output_type": "display_data"
    },
    {
     "data": {
      "application/vnd.jupyter.widget-view+json": {
       "model_id": "4ebc9c9e13974d61bb08427d0e492998",
       "version_major": 2,
       "version_minor": 0
      },
      "text/plain": [
       "d2_g5_c7_op_nco:   0%|          | 0/50 [00:00<?, ?it/s]"
      ]
     },
     "metadata": {},
     "output_type": "display_data"
    },
    {
     "data": {
      "application/vnd.jupyter.widget-view+json": {
       "model_id": "2985f62236594407b5c535f82610ee9d",
       "version_major": 2,
       "version_minor": 0
      },
      "text/plain": [
       "d2_g10_c7_op_nco:   0%|          | 0/50 [00:00<?, ?it/s]"
      ]
     },
     "metadata": {},
     "output_type": "display_data"
    },
    {
     "data": {
      "application/vnd.jupyter.widget-view+json": {
       "model_id": "e12bfac2d5dc44c8a77e902b82dd86f8",
       "version_major": 2,
       "version_minor": 0
      },
      "text/plain": [
       "d2_g40_c7_op_nco:   0%|          | 0/50 [00:00<?, ?it/s]"
      ]
     },
     "metadata": {},
     "output_type": "display_data"
    }
   ],
   "source": [
    "params = [\n",
    "    (20, \"open\", \"conservative\"),\n",
    "    (20, \"open\", \"non conservative\"),\n",
    "    (20, \"closed\", \"conservative\"),\n",
    "    (20, \"closed\", \"non conservative\"),\n",
    "    (5, \"open\", \"conservative\"),\n",
    "    (10, \"open\", \"conservative\"),\n",
    "    (40, \"open\", \"conservative\"),\n",
    "    (5, \"closed\", \"non conservative\"),\n",
    "    (10, \"closed\", \"non conservative\"),\n",
    "    (40, \"closed\", \"non conservative\"),\n",
    "    (5, \"open\", \"non conservative\"),\n",
    "    (10, \"open\", \"non conservative\"),\n",
    "    (40, \"open\", \"non conservative\"),\n",
    "]\n",
    "\n",
    "data_dir = Path(\"./data/comparison_2d\")\n",
    "data_dir.mkdir(exist_ok=True)\n",
    "\n",
    "def worker(func, args):\n",
    "    return func(*args)\n",
    "\n",
    "\n",
    "for grid, b, p in params:\n",
    "    system = SandpileND(2, grid, 7, b, p) # type: ignore\n",
    "    system.run_multiple_samples(data_dir.absolute().__str__(), 1_000_000, 50, step=50, clear=True, desc=f\"{grid} {b}, {p}\")\n",
    "    \n",
    "\n"
   ]
  },
  {
   "cell_type": "markdown",
   "id": "9478e998574d6907",
   "metadata": {},
   "source": [
    "# ND closed conservative simulations\n",
    "    "
   ]
  },
  {
   "cell_type": "code",
   "execution_count": 3,
   "id": "446dcefb20b30f0e",
   "metadata": {},
   "outputs": [
    {
     "data": {
      "application/vnd.jupyter.widget-view+json": {
       "model_id": "afbc50d5bb5947da87a4a5d4167e837d",
       "version_major": 2,
       "version_minor": 0
      },
      "text/plain": [
       "d2_g40_c7_cl_nco:   0%|          | 0/200 [00:00<?, ?it/s]"
      ]
     },
     "metadata": {},
     "output_type": "display_data"
    },
    {
     "data": {
      "application/vnd.jupyter.widget-view+json": {
       "model_id": "dca9f1d546f343efb86168fd28ab9888",
       "version_major": 2,
       "version_minor": 0
      },
      "text/plain": [
       "d3_g20_c7_cl_nco:   0%|          | 0/200 [00:00<?, ?it/s]"
      ]
     },
     "metadata": {},
     "output_type": "display_data"
    }
   ],
   "source": [
    "def worker(func, args):\n",
    "    return func(*args)\n",
    "\n",
    "\n",
    "params = [\n",
    "    # (1, 20),\n",
    "    (2, 40),\n",
    "    (3, 20),\n",
    "    # (4, 15),\n",
    "    # (5, 15),\n",
    "    # (6, 10)\n",
    "]\n",
    "\n",
    "for dim, grid in params:\n",
    "    system = SandpileND(dim, grid, 7, \"closed\", \"non conservative\")\n",
    "    x = system.run_multiple_samples(\"./data\", 100_000, 200, step=250, desc=f\"dim {dim}, grid {grid}\",\n",
    "                                    clear=True)\n"
   ]
  },
  {
   "cell_type": "markdown",
   "id": "915017e35fd3c24b",
   "metadata": {},
   "source": [
    "# Visualisation"
   ]
  },
  {
   "cell_type": "code",
   "execution_count": 3,
   "id": "bba97ee5e1d1d4aa",
   "metadata": {
    "ExecuteTime": {
     "end_time": "2025-03-05T19:27:29.446241506Z",
     "start_time": "2025-03-04T09:25:23.661042Z"
    }
   },
   "outputs": [
    {
     "ename": "FileNotFoundError",
     "evalue": "[Errno 2] No such file or directory: '/home/gabriel/Documents/Uni/Sandpiles/Code/data/d2_g40_c7_cl_nco/data_5.slopes.npy'",
     "output_type": "error",
     "traceback": [
      "\u001b[31m---------------------------------------------------------------------------\u001b[39m",
      "\u001b[31mFileNotFoundError\u001b[39m                         Traceback (most recent call last)",
      "\u001b[36mCell\u001b[39m\u001b[36m \u001b[39m\u001b[32mIn[3]\u001b[39m\u001b[32m, line 10\u001b[39m\n\u001b[32m      7\u001b[39m \u001b[38;5;28;01mfor\u001b[39;00m i \u001b[38;5;129;01min\u001b[39;00m \u001b[38;5;28mrange\u001b[39m(\u001b[32m10\u001b[39m):\n\u001b[32m      8\u001b[39m     data_dir = pathlib.Path(\u001b[33mf\u001b[39m\u001b[33m\"\u001b[39m\u001b[33m./data/d\u001b[39m\u001b[38;5;132;01m{\u001b[39;00mdim\u001b[38;5;132;01m}\u001b[39;00m\u001b[33m_g\u001b[39m\u001b[38;5;132;01m{\u001b[39;00mgrid\u001b[38;5;132;01m}\u001b[39;00m\u001b[33m_c7_cl_nco/data_\u001b[39m\u001b[38;5;132;01m{\u001b[39;00mi\u001b[38;5;132;01m}\u001b[39;00m\u001b[33m.slopes.npy\u001b[39m\u001b[33m\"\u001b[39m).resolve().absolute()\n\u001b[32m---> \u001b[39m\u001b[32m10\u001b[39m     step, slope = \u001b[43mload_slope_values\u001b[49m\u001b[43m(\u001b[49m\u001b[43mdata_dir\u001b[49m\u001b[43m.\u001b[49m\u001b[34;43m__str__\u001b[39;49m\u001b[43m(\u001b[49m\u001b[43m)\u001b[49m\u001b[43m)\u001b[49m\n\u001b[32m     11\u001b[39m     draw_slope(slope, step)\n",
      "\u001b[36mFile \u001b[39m\u001b[32m~/Documents/Uni/Sandpiles/Code/utils.py:33\u001b[39m, in \u001b[36mload_slope_values\u001b[39m\u001b[34m(path)\u001b[39m\n\u001b[32m     32\u001b[39m \u001b[38;5;28;01mdef\u001b[39;00m \u001b[34mload_slope_values\u001b[39m(path: \u001b[38;5;28mstr\u001b[39m) -> \u001b[38;5;28mtuple\u001b[39m[\u001b[38;5;28mint\u001b[39m, NDArray]:\n\u001b[32m---> \u001b[39m\u001b[32m33\u001b[39m     data = \u001b[43mnp\u001b[49m\u001b[43m.\u001b[49m\u001b[43mload\u001b[49m\u001b[43m(\u001b[49m\u001b[43mpath\u001b[49m\u001b[43m)\u001b[49m\n\u001b[32m     35\u001b[39m     \u001b[38;5;28;01mreturn\u001b[39;00m data[\u001b[32m0\u001b[39m], data[\u001b[32m1\u001b[39m:]\n",
      "\u001b[36mFile \u001b[39m\u001b[32m~/.local/lib/python3.12/site-packages/numpy/lib/npyio.py:427\u001b[39m, in \u001b[36mload\u001b[39m\u001b[34m(file, mmap_mode, allow_pickle, fix_imports, encoding, max_header_size)\u001b[39m\n\u001b[32m    425\u001b[39m     own_fid = \u001b[38;5;28;01mFalse\u001b[39;00m\n\u001b[32m    426\u001b[39m \u001b[38;5;28;01melse\u001b[39;00m:\n\u001b[32m--> \u001b[39m\u001b[32m427\u001b[39m     fid = stack.enter_context(\u001b[38;5;28;43mopen\u001b[39;49m\u001b[43m(\u001b[49m\u001b[43mos_fspath\u001b[49m\u001b[43m(\u001b[49m\u001b[43mfile\u001b[49m\u001b[43m)\u001b[49m\u001b[43m,\u001b[49m\u001b[43m \u001b[49m\u001b[33;43m\"\u001b[39;49m\u001b[33;43mrb\u001b[39;49m\u001b[33;43m\"\u001b[39;49m\u001b[43m)\u001b[49m)\n\u001b[32m    428\u001b[39m     own_fid = \u001b[38;5;28;01mTrue\u001b[39;00m\n\u001b[32m    430\u001b[39m \u001b[38;5;66;03m# Code to distinguish from NumPy binary files and pickles.\u001b[39;00m\n",
      "\u001b[31mFileNotFoundError\u001b[39m: [Errno 2] No such file or directory: '/home/gabriel/Documents/Uni/Sandpiles/Code/data/d2_g40_c7_cl_nco/data_5.slopes.npy'"
     ]
    },
    {
     "data": {
      "image/png": "[encoded data removed]",
      "text/plain": [
       "<Figure size 640x480 with 1 Axes>"
      ]
     },
     "metadata": {},
     "output_type": "display_data"
    }
   ],
   "source": [
    "\n",
    "from analysis import *\n",
    "\n",
    "\n",
    "dim, grid = 2, 40\n",
    "\n",
    "plt.figure(\"visualisation\")\n",
    "for i in range(10):\n",
    "    data_dir = pathlib.Path(f\"./data/d{dim}_g{grid}_c7_cl_nco/data_{i}.slopes.npy\").resolve().absolute()\n",
    "\n",
    "    step, slope = load_slope_values(data_dir.__str__())\n",
    "    draw_slope(slope, step)\n",
    "\n"
   ]
  }
 ],
 "metadata": {
  "kernelspec": {
   "display_name": "base",
   "language": "python",
   "name": "python3"
  },
  "language_info": {
   "codemirror_mode": {
    "name": "ipython",
    "version": 3
   },
   "file_extension": ".py",
   "mimetype": "text/x-python",
   "name": "python",
   "nbconvert_exporter": "python",
   "pygments_lexer": "ipython3",
   "version": "3.12.9"
  }
 },
 "nbformat": 4,
 "nbformat_minor": 5
}
