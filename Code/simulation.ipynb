{
 "cells": [
  {
   "metadata": {
    "ExecuteTime": {
     "end_time": "2025-03-01T16:39:21.462616Z",
     "start_time": "2025-03-01T16:39:21.023178Z"
    }
   },
   "cell_type": "code",
   "source": [
    "\n",
    "\n",
    "import matplotlib.pyplot as plt\n",
    "import numpy as np\n",
    "\n",
    "from sandpile import *\n",
    "from utils import *\n",
    "from multiprocessing import Pool, Process, set_start_method\n",
    "import multiprocessing as mp\n",
    "\n"
   ],
   "id": "f86b781db9bf8d4a",
   "outputs": [],
   "execution_count": 1
  },
  {
   "metadata": {},
   "cell_type": "markdown",
   "source": "# Simulation ",
   "id": "32fbacbeeecdd7a8"
  },
  {
   "metadata": {
    "ExecuteTime": {
     "end_time": "2025-03-01T18:05:48.990438Z",
     "start_time": "2025-03-01T16:55:55.061958Z"
    }
   },
   "cell_type": "code",
   "source": [
    "from pathlib import Path\n",
    "import sys\n",
    "lock = mp.Lock()\n",
    "def run_system(task):\n",
    "    dim, grid, boundary, perturbation, crit, time_steps = task\n",
    "    path_name = Path(f\"./data/data_{dim}_{grid}_{boundary[0]}_{perturbation[0]}_{crit}\")\n",
    "    if path_name.exists():\n",
    "        with lock:\n",
    "            print(f\"file {path_name.name} already exists\\n\", end=\" \", file=sys.stderr)\n",
    "            return\n",
    "    \n",
    "    system = SandpileND(dim, grid, crit, boundary, perturbation)\n",
    "    system(time_steps)\n",
    "    \n",
    "    system.save_data(path_name.resolve().absolute())\n",
    "    del system\n",
    "\n",
    "\n",
    "N = 1_000_000\n",
    "tasks = [\n",
    "    (1, 40, \"open\", \"conservative\", 7, N),\n",
    "    (1, 40, \"closed\", \"non conservative\", 7, N),\n",
    "    (2, 20, \"open\", \"non conservative\", 7, N),\n",
    "    (2, 20, \"closed\", \"conservative\", 7, N),\n",
    "    (2, 5, \"closed\", \"non conservative\", 7, N),\n",
    "    (2, 10, \"closed\", \"non conservative\", 7, N),\n",
    "    (2, 20, \"closed\", \"non conservative\", 7, N),\n",
    "    (2, 40, \"closed\", \"non conservative\", 7, N),\n",
    "    (2, 5, \"open\", \"conservative\", 7, N),\n",
    "    (2, 10, \"open\", \"conservative\", 7, N),\n",
    "    (2, 20, \"open\", \"conservative\", 7, N),\n",
    "    (2, 40, \"open\", \"conservative\", 7, N),\n",
    "    (3, 20, \"closed\", \"non conservative\", 7, N),\n",
    "    (3, 40, \"closed\", \"non conservative\", 7, N),\n",
    "    (4, 15, \"closed\", \"non conservative\", 7, N),\n",
    "    (4, 20, \"closed\", \"non conservative\", 7, N), # lol no fuck\n",
    "    (5, 15, \"closed\", \"non conservative\", 7, N),\n",
    "]\n",
    "\n",
    "tasks = [\n",
    "    (2, 60, \"closed\", \"non conservative\", 7, N),\n",
    "]\n",
    "ctx = mp.get_context('fork')\n",
    "\n",
    "with ctx.Pool(mp.cpu_count() - 2) as pool:\n",
    "    pool.map(run_system, tasks)\n"
   ],
   "id": "44d0d00ba3e7eaae",
   "outputs": [
    {
     "name": "stdout",
     "output_type": "stream",
     "text": [
      " "
     ]
    },
    {
     "data": {
      "text/plain": [
       "dim2 grid60 closed non conservative:   0%|          | 0/999999 [00:00<?, ?it/s]"
      ],
      "application/vnd.jupyter.widget-view+json": {
       "version_major": 2,
       "version_minor": 0,
       "model_id": "ef3252e4117e408095902a75c80576c3"
      }
     },
     "metadata": {},
     "output_type": "display_data"
    }
   ],
   "execution_count": 3
  },
  {
   "metadata": {},
   "cell_type": "markdown",
   "source": "# Visualisation",
   "id": "915017e35fd3c24b"
  },
  {
   "metadata": {
    "ExecuteTime": {
     "end_time": "2025-02-28T19:30:20.989796Z",
     "start_time": "2025-02-28T19:30:10.980335Z"
    }
   },
   "cell_type": "code",
   "source": [
    "from sandpile import *\n",
    "import matplotlib.pyplot as plt\n",
    "\n",
    "\n",
    "fig = plt.figure(1, figsize=(12, 5))\n",
    "\n",
    "dim = 2\n",
    "bound = \"o\"\n",
    "cons = \"c\"\n",
    "grid = 20\n",
    "crit = 7\n",
    "plt.subplot(121)\n",
    "system = SandpileND.load_from_file(f\"data_{dim}_{20}_{bound}_{cons}_{crit}\")\n",
    "\n",
    "plt.plot(range(system.average_slopes.__len__()), system.average_slopes)\n",
    "\n",
    "\n",
    "\n"
   ],
   "id": "bba97ee5e1d1d4aa",
   "outputs": [
    {
     "data": {
      "text/plain": [
       "[<matplotlib.lines.Line2D at 0x7efe58825730>]"
      ]
     },
     "execution_count": 8,
     "metadata": {},
     "output_type": "execute_result"
    },
    {
     "data": {
      "text/plain": [
       "<Figure size 1200x500 with 1 Axes>"
      ],
      "image/png": "[encoded data removed]"
     },
     "metadata": {},
     "output_type": "display_data"
    }
   ],
   "execution_count": 8
  },
  {
   "metadata": {},
   "cell_type": "code",
   "outputs": [],
   "execution_count": null,
   "source": "fig.show()",
   "id": "1b46c4f946dcffb6"
  }
 ],
 "metadata": {
  "kernelspec": {
   "display_name": "Python 3",
   "language": "python",
   "name": "python3"
  },
  "language_info": {
   "codemirror_mode": {
    "name": "ipython",
    "version": 2
   },
   "file_extension": ".py",
   "mimetype": "text/x-python",
   "name": "python",
   "nbconvert_exporter": "python",
   "pygments_lexer": "ipython2",
   "version": "2.7.6"
  }
 },
 "nbformat": 4,
 "nbformat_minor": 5
}
