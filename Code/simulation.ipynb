{
 "cells": [
  {
   "metadata": {
    "ExecuteTime": {
     "end_time": "2025-03-02T12:12:02.254862Z",
     "start_time": "2025-03-02T12:12:00.907470Z"
    }
   },
   "cell_type": "code",
   "source": [
    "\n",
    "import time\n",
    "from os import cpu_count\n",
    "\n",
    "import matplotlib.pyplot as plt\n",
    "import numpy as np\n",
    "from torch.onnx.symbolic_opset11 import chunk\n",
    "\n",
    "from Code.analysis import draw_slope\n",
    "from Code.sandpile import run_multiple_samples\n",
    "from sandpile import *\n",
    "from utils import *\n",
    "from multiprocessing import Pool, Process, set_start_method\n",
    "import multiprocessing as mp\n",
    "\n"
   ],
   "id": "f86b781db9bf8d4a",
   "outputs": [],
   "execution_count": 1
  },
  {
   "metadata": {},
   "cell_type": "markdown",
   "source": "# Simulation ",
   "id": "32fbacbeeecdd7a8"
  },
  {
   "metadata": {},
   "cell_type": "markdown",
   "source": "## 2D grid comparisons",
   "id": "a384760443b5beb9"
  },
  {
   "metadata": {
    "ExecuteTime": {
     "end_time": "2025-03-02T13:33:52.414407Z",
     "start_time": "2025-03-02T13:33:52.283807Z"
    }
   },
   "cell_type": "code",
   "source": [
    "params = [\n",
    "    # (20, \"open\", \"conservative\"),\n",
    "    # (20, \"open\", \"non conservative\"),\n",
    "    # (20, \"closed\", \"conservative\"),\n",
    "    # (20, \"closed\", \"non conservative\"),\n",
    "    # (5, \"open\", \"conservative\"),\n",
    "    # (10, \"open\", \"conservative\"),\n",
    "    # (20, \"open\", \"conservative\"),\n",
    "    # (40, \"open\", \"conservative\"),\n",
    "    # (5, \"closed\", \"non conservative\"),\n",
    "    # (10, \"closed\", \"non conservative\"),\n",
    "    # (20, \"closed\", \"non conservative\"),\n",
    "    # (40, \"closed\", \"non conservative\"),\n",
    "    # (5, \"open\", \"non conservative\"),\n",
    "    # (10, \"open\", \"non conservative\"),\n",
    "    # (20, \"open\", \"non conservative\"),\n",
    "    # (40, \"open\", \"non conservative\"),\n",
    "]\n",
    "\n",
    "def worker(func, args):\n",
    "    return func(*args)\n",
    "\n",
    "tasks = []\n",
    "for grid, b, p in params:\n",
    "   system = SandpileND(2, grid, 7, b, p)\n",
    "   x = run_multiple_samples(system, \"./data\", 1_000_000, 1, step=50, run=False, desc=f\"{grid} {b}, {p}\")\n",
    "   tasks.extend(x)\n",
    "   \n",
    "with mp.Pool(mp.cpu_count() - 2) as pool:\n",
    "    pool.starmap(worker, tasks)\n"
   ],
   "id": "98076962b92a581d",
   "outputs": [],
   "execution_count": 12
  },
  {
   "metadata": {},
   "cell_type": "markdown",
   "source": [
    "# ND closed conservative simulations\n",
    "    "
   ],
   "id": "9478e998574d6907"
  },
  {
   "metadata": {
    "ExecuteTime": {
     "end_time": "2025-03-02T14:58:12.330012Z",
     "start_time": "2025-03-02T13:34:03.460923Z"
    }
   },
   "cell_type": "code",
   "source": [
    "def worker(func, args):\n",
    "    return func(*args)\n",
    "\n",
    "params = [\n",
    "    (2, 40),\n",
    "    # (3, 20),\n",
    "    # (4, 12),\n",
    "    # (5, 7),\n",
    "    # (6, 5)\n",
    "]\n",
    "\n",
    "tasks = []\n",
    "for dim ,grid in params:\n",
    "    system = SandpileND(dim, grid, 7, \"closed\", \"non conservative\")\n",
    "    x = run_multiple_samples(system, \"./data\", 1_000_000, 10, step=50, run=False, desc=f\"dim {dim}, grid {grid}\")\n",
    "    tasks.extend(x)\n",
    "\n",
    "with mp.Pool(mp.cpu_count() - 2) as pool:\n",
    "    pool.starmap(worker, tasks)\n"
   ],
   "id": "446dcefb20b30f0e",
   "outputs": [
    {
     "name": "stdout",
     "output_type": "stream",
     "text": [
      "          "
     ]
    },
    {
     "data": {
      "text/plain": [
       "dim 2, grid 40 2:   0%|          | 0/999999 [00:00<?, ?it/s]"
      ],
      "application/vnd.jupyter.widget-view+json": {
       "version_major": 2,
       "version_minor": 0,
       "model_id": "90a748ffe5554069b03d2000b267fdc1"
      }
     },
     "metadata": {},
     "output_type": "display_data"
    },
    {
     "data": {
      "text/plain": [
       "dim 2, grid 40 5:   0%|          | 0/999999 [00:00<?, ?it/s]"
      ],
      "application/vnd.jupyter.widget-view+json": {
       "version_major": 2,
       "version_minor": 0,
       "model_id": "c0a566510adb47d9b2141786e7b23d55"
      }
     },
     "metadata": {},
     "output_type": "display_data"
    },
    {
     "data": {
      "text/plain": [
       "dim 2, grid 40 1:   0%|          | 0/999999 [00:00<?, ?it/s]"
      ],
      "application/vnd.jupyter.widget-view+json": {
       "version_major": 2,
       "version_minor": 0,
       "model_id": "b452b8b989ee475ab0f3fdf3187ab062"
      }
     },
     "metadata": {},
     "output_type": "display_data"
    },
    {
     "data": {
      "text/plain": [
       "dim 2, grid 40 0:   0%|          | 0/999999 [00:00<?, ?it/s]"
      ],
      "application/vnd.jupyter.widget-view+json": {
       "version_major": 2,
       "version_minor": 0,
       "model_id": "db85ad7d09bd47e58406c1000e84601b"
      }
     },
     "metadata": {},
     "output_type": "display_data"
    },
    {
     "data": {
      "text/plain": [
       "dim 2, grid 40 7:   0%|          | 0/999999 [00:00<?, ?it/s]"
      ],
      "application/vnd.jupyter.widget-view+json": {
       "version_major": 2,
       "version_minor": 0,
       "model_id": "182669cadd04481fb99ba4e52adb3d37"
      }
     },
     "metadata": {},
     "output_type": "display_data"
    },
    {
     "data": {
      "text/plain": [
       "dim 2, grid 40 4:   0%|          | 0/999999 [00:00<?, ?it/s]"
      ],
      "application/vnd.jupyter.widget-view+json": {
       "version_major": 2,
       "version_minor": 0,
       "model_id": "2034597560114cde8acbc03d175124a6"
      }
     },
     "metadata": {},
     "output_type": "display_data"
    },
    {
     "data": {
      "text/plain": [
       "dim 2, grid 40 3:   0%|          | 0/999999 [00:00<?, ?it/s]"
      ],
      "application/vnd.jupyter.widget-view+json": {
       "version_major": 2,
       "version_minor": 0,
       "model_id": "6e2106aa23304bcf970cbc95f6717f98"
      }
     },
     "metadata": {},
     "output_type": "display_data"
    },
    {
     "data": {
      "text/plain": [
       "dim 2, grid 40 6:   0%|          | 0/999999 [00:00<?, ?it/s]"
      ],
      "application/vnd.jupyter.widget-view+json": {
       "version_major": 2,
       "version_minor": 0,
       "model_id": "8795d0c7c97f4da88e1f1b8b4b766b74"
      }
     },
     "metadata": {},
     "output_type": "display_data"
    },
    {
     "data": {
      "text/plain": [
       "dim 2, grid 40 9:   0%|          | 0/999999 [00:00<?, ?it/s]"
      ],
      "application/vnd.jupyter.widget-view+json": {
       "version_major": 2,
       "version_minor": 0,
       "model_id": "99be57f401854f97bfad64dad72a3d35"
      }
     },
     "metadata": {},
     "output_type": "display_data"
    },
    {
     "data": {
      "text/plain": [
       "dim 2, grid 40 8:   0%|          | 0/999999 [00:00<?, ?it/s]"
      ],
      "application/vnd.jupyter.widget-view+json": {
       "version_major": 2,
       "version_minor": 0,
       "model_id": "bcbdecc421ea44fd9d1fabc6704948a6"
      }
     },
     "metadata": {},
     "output_type": "display_data"
    }
   ],
   "execution_count": 13
  },
  {
   "metadata": {},
   "cell_type": "markdown",
   "source": "# Visualisation",
   "id": "915017e35fd3c24b"
  },
  {
   "metadata": {
    "ExecuteTime": {
     "end_time": "2025-03-02T14:59:34.948528Z",
     "start_time": "2025-03-02T14:59:34.789209Z"
    }
   },
   "cell_type": "code",
   "source": [
    "from utils import *\n",
    "from analysis import *\n",
    "\n",
    "dim, grid = 2, 40\n",
    "data_dir = pathlib.Path(f\"./data/d{dim}_g{grid}_c7_cl_nco/data_0.slopes.npy\").resolve().absolute()\n",
    "\n",
    "step, slope = load_slope_values(data_dir.__str__())\n",
    "plt.figure(\"visualisation\")\n",
    "draw_slope(slope, step)\n",
    "\n"
   ],
   "id": "bba97ee5e1d1d4aa",
   "outputs": [
    {
     "data": {
      "text/plain": [
       "<Figure size 640x480 with 1 Axes>"
      ],
      "image/png": "[encoded data removed]"
     },
     "metadata": {},
     "output_type": "display_data"
    }
   ],
   "execution_count": 16
  }
 ],
 "metadata": {
  "kernelspec": {
   "display_name": "Python 3",
   "language": "python",
   "name": "python3"
  },
  "language_info": {
   "codemirror_mode": {
    "name": "ipython",
    "version": 2
   },
   "file_extension": ".py",
   "mimetype": "text/x-python",
   "name": "python",
   "nbconvert_exporter": "python",
   "pygments_lexer": "ipython2",
   "version": "2.7.6"
  }
 },
 "nbformat": 4,
 "nbformat_minor": 5
}
