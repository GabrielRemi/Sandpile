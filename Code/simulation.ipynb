{
 "cells": [
  {
   "metadata": {
    "ExecuteTime": {
     "end_time": "2025-03-03T17:44:55.881207Z",
     "start_time": "2025-03-03T17:44:55.626450Z"
    }
   },
   "cell_type": "code",
   "source": [
    "\n",
    "import multiprocessing as mp\n",
    "\n",
    "from sandpile import *\n",
    "\n"
   ],
   "id": "f86b781db9bf8d4a",
   "outputs": [],
   "execution_count": 1
  },
  {
   "metadata": {},
   "cell_type": "markdown",
   "source": "# Simulation ",
   "id": "32fbacbeeecdd7a8"
  },
  {
   "metadata": {},
   "cell_type": "markdown",
   "source": "## 2D grid comparisons",
   "id": "a384760443b5beb9"
  },
  {
   "metadata": {
    "ExecuteTime": {
     "end_time": "2025-03-03T17:41:02.439960Z",
     "start_time": "2025-03-03T17:21:32.900901Z"
    }
   },
   "cell_type": "code",
   "source": [
    "params = [\n",
    "    (20, \"open\", \"conservative\"),\n",
    "    (20, \"open\", \"non conservative\"),\n",
    "    (20, \"closed\", \"conservative\"),\n",
    "    (20, \"closed\", \"non conservative\"),\n",
    "    (5, \"open\", \"conservative\"),\n",
    "    (10, \"open\", \"conservative\"),\n",
    "    # (20, \"open\", \"conservative\"),\n",
    "    (40, \"open\", \"conservative\"),\n",
    "    (5, \"closed\", \"non conservative\"),\n",
    "    (10, \"closed\", \"non conservative\"),\n",
    "    # (20, \"closed\", \"non conservative\"),\n",
    "    (40, \"closed\", \"non conservative\"),\n",
    "    (5, \"open\", \"non conservative\"),\n",
    "    (10, \"open\", \"non conservative\"),\n",
    "    # (20, \"open\", \"non conservative\"),\n",
    "    (40, \"open\", \"non conservative\"),\n",
    "]\n",
    "\n",
    "\n",
    "def worker(func, args):\n",
    "    return func(*args)\n",
    "\n",
    "\n",
    "tasks = []\n",
    "for grid, b, p in params:\n",
    "    system = SandpileND(2, grid, 7, b, p)\n",
    "    x = run_multiple_samples(system, \"./data\", 100_000, 1, step=25, run=False, desc=f\"{grid} {b}, {p}\")\n",
    "    tasks.extend(x)\n",
    "\n",
    "with mp.Pool(mp.cpu_count() - 2) as pool:\n",
    "    pool.starmap(worker, tasks)\n"
   ],
   "id": "98076962b92a581d",
   "outputs": [
    {
     "name": "stdout",
     "output_type": "stream",
     "text": [
      "          "
     ]
    },
    {
     "data": {
      "text/plain": [
       "20 open, conservative 0:   0%|          | 0/99999 [00:00<?, ?it/s]"
      ],
      "application/vnd.jupyter.widget-view+json": {
       "version_major": 2,
       "version_minor": 0,
       "model_id": "73beeb9402c34a82bb0b758a5766e26e"
      }
     },
     "metadata": {},
     "output_type": "display_data"
    },
    {
     "data": {
      "text/plain": [
       "20 open, non conservative 0:   0%|          | 0/99999 [00:00<?, ?it/s]"
      ],
      "application/vnd.jupyter.widget-view+json": {
       "version_major": 2,
       "version_minor": 0,
       "model_id": "98a857e99713426495f827c9025153b0"
      }
     },
     "metadata": {},
     "output_type": "display_data"
    },
    {
     "data": {
      "text/plain": [
       "20 closed, conservative 0:   0%|          | 0/99999 [00:00<?, ?it/s]"
      ],
      "application/vnd.jupyter.widget-view+json": {
       "version_major": 2,
       "version_minor": 0,
       "model_id": "f59e7eb1e92946d491333baed77df22b"
      }
     },
     "metadata": {},
     "output_type": "display_data"
    },
    {
     "data": {
      "text/plain": [
       "20 closed, non conservative 0:   0%|          | 0/99999 [00:00<?, ?it/s]"
      ],
      "application/vnd.jupyter.widget-view+json": {
       "version_major": 2,
       "version_minor": 0,
       "model_id": "39336b4323c24e91804fe3eb2238575d"
      }
     },
     "metadata": {},
     "output_type": "display_data"
    },
    {
     "data": {
      "text/plain": [
       "10 closed, non conservative 0:   0%|          | 0/99999 [00:00<?, ?it/s]"
      ],
      "application/vnd.jupyter.widget-view+json": {
       "version_major": 2,
       "version_minor": 0,
       "model_id": "9d90f94576924f5f9dd4196eca7c4cd4"
      }
     },
     "metadata": {},
     "output_type": "display_data"
    },
    {
     "data": {
      "text/plain": [
       "5 open, conservative 0:   0%|          | 0/99999 [00:00<?, ?it/s]"
      ],
      "application/vnd.jupyter.widget-view+json": {
       "version_major": 2,
       "version_minor": 0,
       "model_id": "ae7dbf059336432fb6bb611ff0742107"
      }
     },
     "metadata": {},
     "output_type": "display_data"
    },
    {
     "data": {
      "text/plain": [
       "5 closed, non conservative 0:   0%|          | 0/99999 [00:00<?, ?it/s]"
      ],
      "application/vnd.jupyter.widget-view+json": {
       "version_major": 2,
       "version_minor": 0,
       "model_id": "b35a0156758b4a5d9991f751aaea451d"
      }
     },
     "metadata": {},
     "output_type": "display_data"
    },
    {
     "data": {
      "text/plain": [
       "10 open, conservative 0:   0%|          | 0/99999 [00:00<?, ?it/s]"
      ],
      "application/vnd.jupyter.widget-view+json": {
       "version_major": 2,
       "version_minor": 0,
       "model_id": "c1edc17db44342a5b55cefa3477851d2"
      }
     },
     "metadata": {},
     "output_type": "display_data"
    },
    {
     "data": {
      "text/plain": [
       "40 closed, non conservative 0:   0%|          | 0/99999 [00:00<?, ?it/s]"
      ],
      "application/vnd.jupyter.widget-view+json": {
       "version_major": 2,
       "version_minor": 0,
       "model_id": "84da1d3bc00345d9bae89059f28ddfbc"
      }
     },
     "metadata": {},
     "output_type": "display_data"
    },
    {
     "data": {
      "text/plain": [
       "40 open, conservative 0:   0%|          | 0/99999 [00:00<?, ?it/s]"
      ],
      "application/vnd.jupyter.widget-view+json": {
       "version_major": 2,
       "version_minor": 0,
       "model_id": "03f8f58fcfa94f289ef8f8a743a56779"
      }
     },
     "metadata": {},
     "output_type": "display_data"
    },
    {
     "name": "stdout",
     "output_type": "stream",
     "text": [
      " "
     ]
    },
    {
     "data": {
      "text/plain": [
       "5 open, non conservative 0:   0%|          | 0/99999 [00:00<?, ?it/s]"
      ],
      "application/vnd.jupyter.widget-view+json": {
       "version_major": 2,
       "version_minor": 0,
       "model_id": "0c018454dcea49f1b45f0a318626a070"
      }
     },
     "metadata": {},
     "output_type": "display_data"
    },
    {
     "name": "stdout",
     "output_type": "stream",
     "text": [
      " "
     ]
    },
    {
     "data": {
      "text/plain": [
       "10 open, non conservative 0:   0%|          | 0/99999 [00:00<?, ?it/s]"
      ],
      "application/vnd.jupyter.widget-view+json": {
       "version_major": 2,
       "version_minor": 0,
       "model_id": "0a1b2efe6c3c436784a5e878aca0f8dc"
      }
     },
     "metadata": {},
     "output_type": "display_data"
    },
    {
     "name": "stdout",
     "output_type": "stream",
     "text": [
      " "
     ]
    },
    {
     "data": {
      "text/plain": [
       "40 open, non conservative 0:   0%|          | 0/99999 [00:00<?, ?it/s]"
      ],
      "application/vnd.jupyter.widget-view+json": {
       "version_major": 2,
       "version_minor": 0,
       "model_id": "cfe24dc49bdf4cf3ac76b542aae7883a"
      }
     },
     "metadata": {},
     "output_type": "display_data"
    }
   ],
   "execution_count": 2
  },
  {
   "metadata": {},
   "cell_type": "markdown",
   "source": [
    "# ND closed conservative simulations\n",
    "    "
   ],
   "id": "9478e998574d6907"
  },
  {
   "metadata": {
    "ExecuteTime": {
     "end_time": "2025-03-03T19:41:52.767972Z",
     "start_time": "2025-03-03T18:49:18.424526Z"
    }
   },
   "cell_type": "code",
   "source": [
    "def worker(func, args):\n",
    "    return func(*args)\n",
    "\n",
    "\n",
    "params = [\n",
    "    # (1, 20),\n",
    "    # (2, 40),\n",
    "    # (3, 20),\n",
    "    # (4, 12),\n",
    "    (5, 10),\n",
    "    # (6, 10)\n",
    "]\n",
    "\n",
    "tasks = []\n",
    "for dim, grid in params:\n",
    "    system = SandpileND(dim, grid, 7, \"closed\", \"non conservative\")\n",
    "    x = run_multiple_samples(system, \"./data\", 1_000_000, 25, step=50, run=False, desc=f\"dim {dim}, grid {grid}\",\n",
    "                             clear=False)\n",
    "    tasks.extend(x)\n",
    "\n",
    "with mp.Pool(mp.cpu_count() - 2) as pool:\n",
    "    pool.starmap(worker, tasks)\n",
    "\n"
   ],
   "id": "446dcefb20b30f0e",
   "outputs": [
    {
     "name": "stdout",
     "output_type": "stream",
     "text": [
      "       "
     ]
    },
    {
     "data": {
      "text/plain": [
       "dim 5, grid 10 0:   0%|          | 0/999999 [00:00<?, ?it/s]"
      ],
      "application/vnd.jupyter.widget-view+json": {
       "version_major": 2,
       "version_minor": 0,
       "model_id": "a4fe04685c414a17b2ec6de586006415"
      }
     },
     "metadata": {},
     "output_type": "display_data"
    },
    {
     "data": {
      "text/plain": [
       "dim 5, grid 10 1:   0%|          | 0/999999 [00:00<?, ?it/s]"
      ],
      "application/vnd.jupyter.widget-view+json": {
       "version_major": 2,
       "version_minor": 0,
       "model_id": "7b0beb3e6d41463f997abf65ecf27cf3"
      }
     },
     "metadata": {},
     "output_type": "display_data"
    },
    {
     "data": {
      "text/plain": [
       "dim 5, grid 10 4:   0%|          | 0/999999 [00:00<?, ?it/s]"
      ],
      "application/vnd.jupyter.widget-view+json": {
       "version_major": 2,
       "version_minor": 0,
       "model_id": "1c77e009ee784650ab498a3317751bb4"
      }
     },
     "metadata": {},
     "output_type": "display_data"
    },
    {
     "name": "stdout",
     "output_type": "stream",
     "text": [
      " "
     ]
    },
    {
     "data": {
      "text/plain": [
       "dim 5, grid 10 2:   0%|          | 0/999999 [00:00<?, ?it/s]"
      ],
      "application/vnd.jupyter.widget-view+json": {
       "version_major": 2,
       "version_minor": 0,
       "model_id": "275530036c5e46e488b3e714148bf734"
      }
     },
     "metadata": {},
     "output_type": "display_data"
    },
    {
     "name": "stdout",
     "output_type": "stream",
     "text": [
      " "
     ]
    },
    {
     "data": {
      "text/plain": [
       "dim 5, grid 10 6:   0%|          | 0/999999 [00:00<?, ?it/s]"
      ],
      "application/vnd.jupyter.widget-view+json": {
       "version_major": 2,
       "version_minor": 0,
       "model_id": "9a4b768ea2e54fb49c787d9aa56d1125"
      }
     },
     "metadata": {},
     "output_type": "display_data"
    },
    {
     "name": "stdout",
     "output_type": "stream",
     "text": [
      " "
     ]
    },
    {
     "data": {
      "text/plain": [
       "dim 5, grid 10 3:   0%|          | 0/999999 [00:00<?, ?it/s]"
      ],
      "application/vnd.jupyter.widget-view+json": {
       "version_major": 2,
       "version_minor": 0,
       "model_id": "4278f51766f84fd688d222e092395d52"
      }
     },
     "metadata": {},
     "output_type": "display_data"
    },
    {
     "data": {
      "text/plain": [
       "dim 5, grid 10 5:   0%|          | 0/999999 [00:00<?, ?it/s]"
      ],
      "application/vnd.jupyter.widget-view+json": {
       "version_major": 2,
       "version_minor": 0,
       "model_id": "516b6bbb0df14146b0a174975d3dd215"
      }
     },
     "metadata": {},
     "output_type": "display_data"
    },
    {
     "data": {
      "text/plain": [
       "dim 5, grid 10 8:   0%|          | 0/999999 [00:00<?, ?it/s]"
      ],
      "application/vnd.jupyter.widget-view+json": {
       "version_major": 2,
       "version_minor": 0,
       "model_id": "edd468c49a8142f59da510b51a23ff7f"
      }
     },
     "metadata": {},
     "output_type": "display_data"
    },
    {
     "data": {
      "text/plain": [
       "dim 5, grid 10 9:   0%|          | 0/999999 [00:00<?, ?it/s]"
      ],
      "application/vnd.jupyter.widget-view+json": {
       "version_major": 2,
       "version_minor": 0,
       "model_id": "7c5870d131e64c63bf2e2da3b0ff4988"
      }
     },
     "metadata": {},
     "output_type": "display_data"
    },
    {
     "data": {
      "text/plain": [
       "dim 5, grid 10 7:   0%|          | 0/999999 [00:00<?, ?it/s]"
      ],
      "application/vnd.jupyter.widget-view+json": {
       "version_major": 2,
       "version_minor": 0,
       "model_id": "a67d29cd59d24018ad8354f1b36dab25"
      }
     },
     "metadata": {},
     "output_type": "display_data"
    },
    {
     "name": "stdout",
     "output_type": "stream",
     "text": [
      " "
     ]
    },
    {
     "data": {
      "text/plain": [
       "dim 5, grid 10 10:   0%|          | 0/999999 [00:00<?, ?it/s]"
      ],
      "application/vnd.jupyter.widget-view+json": {
       "version_major": 2,
       "version_minor": 0,
       "model_id": "8bbc230a15c0414fa41c0e41796d5329"
      }
     },
     "metadata": {},
     "output_type": "display_data"
    },
    {
     "name": "stdout",
     "output_type": "stream",
     "text": [
      "  "
     ]
    },
    {
     "data": {
      "text/plain": [
       "dim 5, grid 10 11:   0%|          | 0/999999 [00:00<?, ?it/s]"
      ],
      "application/vnd.jupyter.widget-view+json": {
       "version_major": 2,
       "version_minor": 0,
       "model_id": "bde82a579acc4d22ad1ceb2469d85419"
      }
     },
     "metadata": {},
     "output_type": "display_data"
    },
    {
     "data": {
      "text/plain": [
       "dim 5, grid 10 12:   0%|          | 0/999999 [00:00<?, ?it/s]"
      ],
      "application/vnd.jupyter.widget-view+json": {
       "version_major": 2,
       "version_minor": 0,
       "model_id": "d4c5ead7cff84466bb3679ede5bdbf56"
      }
     },
     "metadata": {},
     "output_type": "display_data"
    },
    {
     "name": "stdout",
     "output_type": "stream",
     "text": [
      " "
     ]
    },
    {
     "data": {
      "text/plain": [
       "dim 5, grid 10 13:   0%|          | 0/999999 [00:00<?, ?it/s]"
      ],
      "application/vnd.jupyter.widget-view+json": {
       "version_major": 2,
       "version_minor": 0,
       "model_id": "701412577e2442408dd8782405c36006"
      }
     },
     "metadata": {},
     "output_type": "display_data"
    },
    {
     "name": "stdout",
     "output_type": "stream",
     "text": [
      " "
     ]
    },
    {
     "data": {
      "text/plain": [
       "dim 5, grid 10 14:   0%|          | 0/999999 [00:00<?, ?it/s]"
      ],
      "application/vnd.jupyter.widget-view+json": {
       "version_major": 2,
       "version_minor": 0,
       "model_id": "742dc0c6e1a245948a9d41a837555c94"
      }
     },
     "metadata": {},
     "output_type": "display_data"
    },
    {
     "name": "stdout",
     "output_type": "stream",
     "text": [
      " "
     ]
    },
    {
     "data": {
      "text/plain": [
       "dim 5, grid 10 15:   0%|          | 0/999999 [00:00<?, ?it/s]"
      ],
      "application/vnd.jupyter.widget-view+json": {
       "version_major": 2,
       "version_minor": 0,
       "model_id": "564cf5cb76524c49b8ad6cc79389af56"
      }
     },
     "metadata": {},
     "output_type": "display_data"
    },
    {
     "name": "stdout",
     "output_type": "stream",
     "text": [
      "  "
     ]
    },
    {
     "data": {
      "text/plain": [
       "dim 5, grid 10 16:   0%|          | 0/999999 [00:00<?, ?it/s]"
      ],
      "application/vnd.jupyter.widget-view+json": {
       "version_major": 2,
       "version_minor": 0,
       "model_id": "793d2adfa19246d7a1efd05d3379c775"
      }
     },
     "metadata": {},
     "output_type": "display_data"
    },
    {
     "data": {
      "text/plain": [
       "dim 5, grid 10 17:   0%|          | 0/999999 [00:00<?, ?it/s]"
      ],
      "application/vnd.jupyter.widget-view+json": {
       "version_major": 2,
       "version_minor": 0,
       "model_id": "b3f06d1a8bd3458e9c184625352a0807"
      }
     },
     "metadata": {},
     "output_type": "display_data"
    },
    {
     "name": "stdout",
     "output_type": "stream",
     "text": [
      " "
     ]
    },
    {
     "data": {
      "text/plain": [
       "dim 5, grid 10 18:   0%|          | 0/999999 [00:00<?, ?it/s]"
      ],
      "application/vnd.jupyter.widget-view+json": {
       "version_major": 2,
       "version_minor": 0,
       "model_id": "879cd1d5d1a0410c8830b6c54f143ac6"
      }
     },
     "metadata": {},
     "output_type": "display_data"
    },
    {
     "name": "stdout",
     "output_type": "stream",
     "text": [
      " "
     ]
    },
    {
     "data": {
      "text/plain": [
       "dim 5, grid 10 19:   0%|          | 0/999999 [00:00<?, ?it/s]"
      ],
      "application/vnd.jupyter.widget-view+json": {
       "version_major": 2,
       "version_minor": 0,
       "model_id": "dc26c3b9fc7841b3b61a029ba7f42379"
      }
     },
     "metadata": {},
     "output_type": "display_data"
    },
    {
     "name": "stdout",
     "output_type": "stream",
     "text": [
      " "
     ]
    },
    {
     "data": {
      "text/plain": [
       "dim 5, grid 10 20:   0%|          | 0/999999 [00:00<?, ?it/s]"
      ],
      "application/vnd.jupyter.widget-view+json": {
       "version_major": 2,
       "version_minor": 0,
       "model_id": "3b49a87e6f694666adeb5d47ea047660"
      }
     },
     "metadata": {},
     "output_type": "display_data"
    },
    {
     "name": "stdout",
     "output_type": "stream",
     "text": [
      " "
     ]
    },
    {
     "data": {
      "text/plain": [
       "dim 5, grid 10 21:   0%|          | 0/999999 [00:00<?, ?it/s]"
      ],
      "application/vnd.jupyter.widget-view+json": {
       "version_major": 2,
       "version_minor": 0,
       "model_id": "b33fae180f544586b21b8a93c2c1ef23"
      }
     },
     "metadata": {},
     "output_type": "display_data"
    },
    {
     "name": "stdout",
     "output_type": "stream",
     "text": [
      " "
     ]
    },
    {
     "data": {
      "text/plain": [
       "dim 5, grid 10 22:   0%|          | 0/999999 [00:00<?, ?it/s]"
      ],
      "application/vnd.jupyter.widget-view+json": {
       "version_major": 2,
       "version_minor": 0,
       "model_id": "dda88a6588f44d37ac5a7c9a31776547"
      }
     },
     "metadata": {},
     "output_type": "display_data"
    },
    {
     "name": "stdout",
     "output_type": "stream",
     "text": [
      " "
     ]
    },
    {
     "data": {
      "text/plain": [
       "dim 5, grid 10 23:   0%|          | 0/999999 [00:00<?, ?it/s]"
      ],
      "application/vnd.jupyter.widget-view+json": {
       "version_major": 2,
       "version_minor": 0,
       "model_id": "c2377481e40a4bc3abff13b67d8b7c33"
      }
     },
     "metadata": {},
     "output_type": "display_data"
    },
    {
     "name": "stdout",
     "output_type": "stream",
     "text": [
      " "
     ]
    },
    {
     "data": {
      "text/plain": [
       "dim 5, grid 10 24:   0%|          | 0/999999 [00:00<?, ?it/s]"
      ],
      "application/vnd.jupyter.widget-view+json": {
       "version_major": 2,
       "version_minor": 0,
       "model_id": "6b3d094116fe48e49c2fc649fa93c1ca"
      }
     },
     "metadata": {},
     "output_type": "display_data"
    }
   ],
   "execution_count": 17
  },
  {
   "metadata": {},
   "cell_type": "markdown",
   "source": "# Visualisation",
   "id": "915017e35fd3c24b"
  },
  {
   "metadata": {
    "ExecuteTime": {
     "end_time": "2025-03-03T19:54:50.877538Z",
     "start_time": "2025-03-03T19:54:50.654638Z"
    }
   },
   "cell_type": "code",
   "source": [
    "\n",
    "from analysis import *\n",
    "\n",
    "\n",
    "dim, grid = 5, 10\n",
    "\n",
    "plt.figure(\"visualisation\")\n",
    "for i in range(10):\n",
    "    data_dir = pathlib.Path(f\"./data/d{dim}_g{grid}_c7_cl_nco/data_{i}.slopes.npy\").resolve().absolute()\n",
    "\n",
    "    step, slope = load_slope_values(data_dir.__str__())\n",
    "    draw_slope(slope, step)\n",
    "\n"
   ],
   "id": "bba97ee5e1d1d4aa",
   "outputs": [
    {
     "data": {
      "text/plain": [
       "<Figure size 640x480 with 1 Axes>"
      ],
      "image/png": "[encoded data removed]"
     },
     "metadata": {},
     "output_type": "display_data"
    }
   ],
   "execution_count": 20
  }
 ],
 "metadata": {
  "kernelspec": {
   "display_name": "Python 3",
   "language": "python",
   "name": "python3"
  },
  "language_info": {
   "codemirror_mode": {
    "name": "ipython",
    "version": 2
   },
   "file_extension": ".py",
   "mimetype": "text/x-python",
   "name": "python",
   "nbconvert_exporter": "python",
   "pygments_lexer": "ipython2",
   "version": "2.7.6"
  }
 },
 "nbformat": 4,
 "nbformat_minor": 5
}
